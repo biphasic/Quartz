{
 "cells": [
  {
   "cell_type": "code",
   "execution_count": null,
   "metadata": {},
   "outputs": [],
   "source": [
    "import numpy as np\n",
    "import matplotlib.pyplot as plt"
   ]
  },
  {
   "cell_type": "code",
   "execution_count": null,
   "metadata": {},
   "outputs": [],
   "source": [
    "t_max = 100\n",
    "n_time_steps = 2*t_max\n",
    "\n",
    "data = np.zeros((n_time_steps))\n",
    "data[25] = 1\n",
    "data[75] = -1\n",
    "data[100] = 1\n",
    "\n",
    "current = np.cumsum(data)\n",
    "v_mem = np.cumsum(current)\n",
    "v_mem[v_mem>t_max] = 0\n",
    "\n",
    "fig, (ax1, ax2, ax3) = plt.subplots(3, 1)\n",
    "ax1.plot(data)\n",
    "ax2.plot(current)\n",
    "ax3.plot(v_mem)"
   ]
  },
  {
   "cell_type": "code",
   "execution_count": null,
   "metadata": {},
   "outputs": [],
   "source": [
    "n_time_steps = 200\n",
    "\n",
    "t1 = int(10/0.75)\n",
    "t2 = int(10/0.25)\n",
    "w1 = 1\n",
    "w2 = -1\n",
    "data = np.zeros((n_time_steps))\n",
    "data[t1] = w1\n",
    "data[t2] = w2\n",
    "\n",
    "current = np.cumsum(data)\n",
    "v_mem = np.cumsum(current)\n",
    "v_mem[v_mem>t_max] = 0\n",
    "\n",
    "fig, (ax1, ax2, ax3) = plt.subplots(3, 1)\n",
    "ax1.plot(data)\n",
    "ax2.plot(current)\n",
    "ax3.plot(v_mem)"
   ]
  },
  {
   "cell_type": "code",
   "execution_count": null,
   "metadata": {},
   "outputs": [],
   "source": [
    "1/0.25"
   ]
  }
 ],
 "metadata": {
  "kernelspec": {
   "display_name": "Python 3.8.8 ('base')",
   "language": "python",
   "name": "python3"
  },
  "language_info": {
   "codemirror_mode": {
    "name": "ipython",
    "version": 3
   },
   "file_extension": ".py",
   "mimetype": "text/x-python",
   "name": "python",
   "nbconvert_exporter": "python",
   "pygments_lexer": "ipython3",
   "version": "3.8.8"
  },
  "vscode": {
   "interpreter": {
    "hash": "caf264bf03997fa53b380c84044763293a7a6f8ebb5555ee5243fd4d1f495be6"
   }
  }
 },
 "nbformat": 4,
 "nbformat_minor": 2
}
