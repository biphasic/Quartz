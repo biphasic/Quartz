{
 "cells": [
  {
   "cell_type": "code",
   "execution_count": null,
   "metadata": {},
   "outputs": [],
   "source": [
    "import plotly.express as px\n",
    "import pandas as pd\n",
    "import plotly.graph_objects as go\n",
    "import numpy as np\n",
    "import pickle"
   ]
  },
  {
   "cell_type": "code",
   "execution_count": null,
   "metadata": {},
   "outputs": [],
   "source": [
    "mnist_t_max = 16\n",
    "mnist_percentiles = [97, 98, 99, 99.9, 99.99, 99.999]\n",
    "mnist_early_spikes = np.array([5.9887309074401855, 3.43815279006958, 1.6641639471054077, 0.11234107613563538, 0.008053530007600784, 0.001304976874962449])\n",
    "mnist_errors = 100 - np.array([98.72999787330627, 99.14000034332275, 99.1599977016449, 99.11999702453613, 99.11999702453613, 99.09999966621399])\n",
    "\n",
    "cifar_tmaxs = [2**exponent for exponent in range(3, 7)]\n",
    "cifar_error = 100 - np.array([83.30999612808228, 91.3599967956543, 92.14999675750732, 92.25999712944031])\n",
    "\n",
    "imagenet_tmaxs = [2**exponent for exponent in range(4, 7)]\n",
    "imagenet_error = 100 - np.array([54.44, 64.44, 67.24])\n",
    "imagenet_times = [146, 290, 578]"
   ]
  },
  {
   "cell_type": "code",
   "execution_count": null,
   "metadata": {},
   "outputs": [],
   "source": [
    "df = pd.DataFrame({\n",
    "    'Dataset': ['MNIST'] * len(mnist_percentiles),\n",
    "    'Activation normalization percentile': [str(percentile) for percentile in mnist_percentiles], #  mnist_percentiles, # \n",
    "    '% early spikes': mnist_early_spikes, # np.concatenate(\n",
    "    '% accuracy error': mnist_errors, \n",
    "})\n",
    "\n",
    "fig = px.bar(df, x=\"Activation normalization percentile\", y=\"% accuracy error\", facet_col=\"Dataset\", color='% early spikes')\n",
    "fig.show()"
   ]
  },
  {
   "cell_type": "code",
   "execution_count": null,
   "metadata": {},
   "outputs": [],
   "source": [
    "mnist = pickle.load(open('../mnist/mnist-results.pkl', 'rb'))\n",
    "df = pd.DataFrame()\n",
    "\n",
    "for percentile, data_dict in mnist.items():\n",
    "    for t_max, metrics in data_dict.items():\n",
    "        df_temp = pd.DataFrame({\n",
    "            'Dataset': ['MNIST'],\n",
    "            'Normalization percentile': [percentile],\n",
    "            'Tmax': [t_max],\n",
    "            'Time steps': [metrics['time steps']],\n",
    "            'Accuracy error': [100 - metrics['acc']],\n",
    "            'Early spikes': [metrics['early spikes']],\n",
    "            'Number of operations per frame': [metrics['n_ops']],\n",
    "            'Neurons': [metrics['n_neurons']],\n",
    "            'SynOps': [metrics['n_synops']]\n",
    "        })\n",
    "        df = pd.concat((df, df_temp))\n",
    "df = df.reset_index()\n",
    "\n",
    "fig = px.bar(df, x='Normalization percentile', y='Accuracy error', color='Early spikes', template=\"plotly_white\")\n",
    "fig.update_layout(\n",
    "    margin=dict(l=20, r=20, t=0, b=20),\n",
    "    # autosize=False,\n",
    "    width=700,\n",
    "    height=300,\n",
    ")\n",
    "# fig.update_xaxes(matches=None, showticklabels=True)\n",
    "fig.show()\n",
    "fig.write_image('early_spikes.png')"
   ]
  }
 ],
 "metadata": {
  "kernelspec": {
   "display_name": "base",
   "language": "python",
   "name": "python3"
  },
  "language_info": {
   "codemirror_mode": {
    "name": "ipython",
    "version": 3
   },
   "file_extension": ".py",
   "mimetype": "text/x-python",
   "name": "python",
   "nbconvert_exporter": "python",
   "pygments_lexer": "ipython3",
   "version": "3.9.16"
  },
  "vscode": {
   "interpreter": {
    "hash": "3c00e5e7c7a569083cb991dfa106f557879cc0d1d84bf5b9d92fbb6bf680d358"
   }
  }
 },
 "nbformat": 4,
 "nbformat_minor": 2
}
