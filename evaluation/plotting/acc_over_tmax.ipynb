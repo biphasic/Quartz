{
 "cells": [
  {
   "cell_type": "code",
   "execution_count": null,
   "metadata": {},
   "outputs": [],
   "source": [
    "import matplotlib.pyplot as plt\n",
    "import numpy as np"
   ]
  },
  {
   "cell_type": "code",
   "execution_count": null,
   "metadata": {},
   "outputs": [],
   "source": [
    "mnist_tmaxs = [2**exponent for exponent in range(1, 6)]\n",
    "mnist_error = 100 - np.array([89.68999981880188, 98.10999631881714, 99.04999732971191, 99.1599977016449, 99.24999475479126])\n",
    "\n",
    "cifar_tmaxs = [2**exponent for exponent in range(3, 7)]\n",
    "cifar_error = 100 - np.array([83.30999612808228, 91.3599967956543, 92.14999675750732, 92.25999712944031])\n",
    "\n",
    "imagenet_tmaxs = [2**exponent for exponent in range(4, 7)]\n",
    "imagenet_error = 100 - np.array([54.44, 64.44, 67.24])\n",
    "imagenet_times = [146, 290, 578]"
   ]
  },
  {
   "cell_type": "code",
   "execution_count": null,
   "metadata": {},
   "outputs": [],
   "source": [
    "plt.scatter(mnist_tmaxs, mnist_error)\n",
    "plt.plot(mnist_tmaxs, mnist_error, label='MNIST')\n",
    "plt.scatter(cifar_tmaxs, cifar_error)\n",
    "plt.plot(cifar_tmaxs, cifar_error, label=\"CIFAR10\")\n",
    "plt.scatter(imagenet_tmaxs, imagenet_error)\n",
    "plt.plot(imagenet_tmaxs, imagenet_error, label=\"ImageNet\")\n",
    "plt.xscale('log')\n",
    "plt.xlim(right=100)\n",
    "plt.ylabel(\"Accuracy error [%]\")\n",
    "plt.xlabel(r\"$T_{\\mathrm{max}}$ per layer\")\n",
    "plt.legend()\n",
    "plt.grid()\n",
    "plt.tight_layout()\n",
    "plt.savefig(\"simulation_accs.png\")"
   ]
  },
  {
   "cell_type": "code",
   "execution_count": null,
   "metadata": {},
   "outputs": [],
   "source": [
    "import plotly.express as px\n",
    "import pandas as pd\n",
    "import plotly.graph_objects as go\n",
    "\n",
    "mnist_error = 100 - np.array([89.68999981880188, 98.10999631881714, 99.04999732971191, 99.1599977016449, 99.24999475479126])\n",
    "mnist_ops = np.array([49, 66, 101, 171, 310])*1e3\n",
    "\n",
    "cifar_error = 100 - np.array([83.30999612808228, 91.3599967956543, 92.14999675750732, 92.25999712944031])\n",
    "cifar_ops = np.array([4.356, 6.912, 12.024, 22.249]) * 1e6\n",
    "\n",
    "imagenet_error = 100 - np.array([54.44, 64.44, 67.24])\n",
    "imagenet_ops = np.array([537.928, 775.855, 1251.711]) * 1e6\n",
    "\n",
    "\n",
    "df = pd.DataFrame({\n",
    "    'Dataset': ['MNIST'] * 5 + ['CIFAR10'] * 4 + ['ImageNet'] * 3,\n",
    "    'Text': [f\"{2**exponent}\" for exponent in range(1, 6)] + [f\"{2**exponent}\" for exponent in range(3, 7)] + [f\"{2**exponent}\" for exponent in range(4, 7)],\n",
    "    'Accuracy error [%]': np.concatenate((mnist_error, cifar_error, imagenet_error)),\n",
    "    'Number of operations [MOps]': np.concatenate((mnist_ops, cifar_ops, imagenet_ops)), \n",
    "})\n",
    "\n",
    "df2 = pd.DataFrame({\n",
    "    'Dataset': ['MNIST', 'CIFAR10', 'ImageNet'],\n",
    "    'Text': ['ANN']*3,\n",
    "    'Accuracy error [%]': [100-99.22999739646912, 100-92.38999485969543, 100-68.11000108718872],\n",
    "    'Number of operations [MOps]': np.array([45.168, 21975.072768, 974005.272576])*1e6,\n",
    "})\n",
    "\n",
    "fig1 = px.line(df, x=\"Number of operations [MOps]\", y=\"Accuracy error [%]\", color=\"Dataset\", text=\"Text\")\n",
    "\n",
    "fig2 = px.scatter(df2, x=\"Number of operations [MOps]\", y=\"Accuracy error [%]\", color=\"Dataset\", text=\"Text\")\n",
    "fig = go.Figure(data=fig1.data + fig2.data, )\n",
    "fig.update_xaxes(type=\"log\")\n",
    "fig.update_traces(textposition=\"top right\")\n",
    "fig.update_layout(\n",
    "    # title=\"Plot Title\",\n",
    "    xaxis_title=\"Ops per frame\",\n",
    "    yaxis_title=\"Accuracy error [%]\",\n",
    "    legend_title=\"Dataset\",\n",
    ")\n",
    "fig.show()\n",
    "fig.write_image('n_ops.png')"
   ]
  }
 ],
 "metadata": {
  "kernelspec": {
   "display_name": "base",
   "language": "python",
   "name": "python3"
  },
  "language_info": {
   "codemirror_mode": {
    "name": "ipython",
    "version": 3
   },
   "file_extension": ".py",
   "mimetype": "text/x-python",
   "name": "python",
   "nbconvert_exporter": "python",
   "pygments_lexer": "ipython3",
   "version": "3.9.15"
  },
  "vscode": {
   "interpreter": {
    "hash": "3c00e5e7c7a569083cb991dfa106f557879cc0d1d84bf5b9d92fbb6bf680d358"
   }
  }
 },
 "nbformat": 4,
 "nbformat_minor": 2
}
