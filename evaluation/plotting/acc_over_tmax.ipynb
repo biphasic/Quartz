{
 "cells": [
  {
   "cell_type": "code",
   "execution_count": null,
   "metadata": {},
   "outputs": [],
   "source": [
    "import matplotlib.pyplot as plt\n",
    "import numpy as np"
   ]
  },
  {
   "cell_type": "code",
   "execution_count": null,
   "metadata": {},
   "outputs": [],
   "source": [
    "mnist_tmaxs = [2**exponent for exponent in range(1, 7)]\n",
    "mnist_error = 100 - np.array([49.21000003814697, 97.74999618530273,98.69999885559082,99.14999604225159,99.2199957370758,99.23999905586243])\n",
    "\n",
    "cifar_tmaxs = [2**exponent for exponent in range(3, 7)]\n",
    "cifar_error = 100 - np.array([83.30999612808228, 91.3599967956543, 92.14999675750732, 92.25999712944031])\n",
    "\n",
    "imagenet_tmaxs = [2**exponent for exponent in range(4, 7)]\n",
    "imagenet_error = 100 - np.array([54.44, 64.44, 67.24])\n",
    "imagenet_times = [146, 290, 578]"
   ]
  },
  {
   "cell_type": "code",
   "execution_count": null,
   "metadata": {},
   "outputs": [],
   "source": [
    "plt.scatter(mnist_tmaxs, mnist_error)\n",
    "plt.plot(mnist_tmaxs, mnist_error, label='MNIST')\n",
    "plt.scatter(cifar_tmaxs, cifar_error)\n",
    "plt.plot(cifar_tmaxs, cifar_error, label=\"CIFAR10\")\n",
    "plt.scatter(imagenet_tmaxs, imagenet_error)\n",
    "plt.plot(imagenet_tmaxs, imagenet_error, label=\"ImageNet\")\n",
    "plt.xscale('log')\n",
    "plt.xlim(right=100)\n",
    "plt.ylabel(\"Accuracy error [%]\")\n",
    "plt.xlabel(r\"$T_{\\mathrm{max}}$ per layer\")\n",
    "plt.legend()\n",
    "plt.grid()\n",
    "plt.tight_layout()\n",
    "plt.savefig(\"simulation_accs.png\")"
   ]
  },
  {
   "cell_type": "code",
   "execution_count": null,
   "metadata": {},
   "outputs": [],
   "source": []
  }
 ],
 "metadata": {
  "kernelspec": {
   "display_name": "Python 3.8.8 ('base')",
   "language": "python",
   "name": "python3"
  },
  "language_info": {
   "codemirror_mode": {
    "name": "ipython",
    "version": 3
   },
   "file_extension": ".py",
   "mimetype": "text/x-python",
   "name": "python",
   "nbconvert_exporter": "python",
   "pygments_lexer": "ipython3",
   "version": "3.8.8"
  },
  "vscode": {
   "interpreter": {
    "hash": "caf264bf03997fa53b380c84044763293a7a6f8ebb5555ee5243fd4d1f495be6"
   }
  }
 },
 "nbformat": 4,
 "nbformat_minor": 2
}
