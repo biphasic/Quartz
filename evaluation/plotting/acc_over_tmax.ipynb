{
 "cells": [
  {
   "cell_type": "code",
   "execution_count": null,
   "metadata": {},
   "outputs": [],
   "source": [
    "import matplotlib.pyplot as plt\n",
    "import numpy as np"
   ]
  },
  {
   "cell_type": "code",
   "execution_count": null,
   "metadata": {},
   "outputs": [],
   "source": [
    "mnist_tmaxs = [2**exponent for exponent in range(1, 6)]\n",
    "mnist_error = 100 - np.array([89.68999981880188, 98.10999631881714, 99.04999732971191, 99.1599977016449, 99.24999475479126])\n",
    "\n",
    "cifar_tmaxs = [2**exponent for exponent in range(3, 7)]\n",
    "cifar_error = 100 - np.array([83.30999612808228, 91.3599967956543, 92.14999675750732, 92.25999712944031])\n",
    "\n",
    "imagenet_tmaxs = [2**exponent for exponent in range(4, 7)]\n",
    "imagenet_error = 100 - np.array([54.44, 64.44, 67.24])\n",
    "imagenet_times = [146, 290, 578]"
   ]
  },
  {
   "cell_type": "code",
   "execution_count": null,
   "metadata": {},
   "outputs": [],
   "source": [
    "# plt.scatter(mnist_tmaxs, mnist_error)\n",
    "# plt.plot(mnist_tmaxs, mnist_error, label='MNIST')\n",
    "# plt.scatter(cifar_tmaxs, cifar_error)\n",
    "# plt.plot(cifar_tmaxs, cifar_error, label=\"CIFAR10\")\n",
    "# plt.scatter(imagenet_tmaxs, imagenet_error)\n",
    "# plt.plot(imagenet_tmaxs, imagenet_error, label=\"ImageNet\")\n",
    "# plt.xscale('log')\n",
    "# plt.xlim(right=100)\n",
    "# plt.ylabel(\"Accuracy error [%]\")\n",
    "# plt.xlabel(r\"$T_{\\mathrm{max}}$ per layer\")\n",
    "# plt.legend()\n",
    "# plt.grid()\n",
    "# plt.tight_layout()\n",
    "# plt.savefig(\"simulation_accs.png\")"
   ]
  },
  {
   "cell_type": "code",
   "execution_count": null,
   "metadata": {},
   "outputs": [],
   "source": [
    "import plotly.express as px\n",
    "import pandas as pd\n",
    "import plotly.graph_objects as go\n",
    "\n",
    "mnist_error = 100 - np.array([89.68999981880188, 98.10999631881714, 99.04999732971191, 99.1599977016449, 99.24999475479126])\n",
    "mnist_ops = np.array([49, 66, 101, 171, 310])*1e3\n",
    "\n",
    "cifar_error = 100 - np.array([83.30999612808228, 91.3599967956543, 92.14999675750732, 92.25999712944031])\n",
    "cifar_ops = np.array([4.356, 6.912, 12.024, 22.249]) * 1e6\n",
    "\n",
    "imagenet_error = 100 - np.array([54.44, 64.44, 67.24])\n",
    "imagenet_ops = np.array([537.928, 775.855, 1251.711]) * 1e6\n",
    "\n",
    "\n",
    "df = pd.DataFrame({\n",
    "    'Dataset': ['MNIST'] * 5 + ['CIFAR10'] * 4 + ['ImageNet'] * 3,\n",
    "    'Text': [f\"{2**exponent}\" for exponent in range(1, 6)] + [f\"{2**exponent}\" for exponent in range(3, 7)] + [f\"{2**exponent}\" for exponent in range(4, 7)],\n",
    "    '% accuracy error': np.concatenate((mnist_error, cifar_error, imagenet_error)),\n",
    "    'Ops per frame': np.concatenate((mnist_ops, cifar_ops, imagenet_ops)), \n",
    "})\n",
    "\n",
    "df.loc[0, 'Text'] = \"$T_{\\mathrm{max}}=\\mathrm{2}$\"\n",
    "df.loc[5, 'Text'] = \"$T_{\\mathrm{max}}=\\mathrm{8}$\"\n",
    "df.loc[9, 'Text'] = \"$T_{\\mathrm{max}}=\\mathrm{16}$\"\n",
    "\n",
    "fig = px.line(df, x=\"Ops per frame\", y=\"% accuracy error\", facet_col=\"Dataset\", text=\"Text\")\n",
    "\n",
    "fig.update_traces(textposition=[\"middle right\", \"top right\", \"bottom left\", \"top center\", \"middle right\"])\n",
    "\n",
    "ANN_kws = dict(showlegend=False, mode=\"markers+text\", text=['ANN '], textposition=\"middle left\", marker_color=0.5)\n",
    "fig.add_trace(go.Scatter(x=[45.168e6], y=[100-99.22999739646912], **ANN_kws), row = 1, col = 1)\n",
    "fig.add_trace(go.Scatter(x=[21975.072768e6], y=[100-92.38999485969543], **ANN_kws), row = 1, col = 2)\n",
    "fig.add_trace(go.Scatter(x=[974005.272576e6], y=[100-68.11000108718872], **ANN_kws), row = 1, col = 3)\n",
    "\n",
    "fig.update_xaxes(type=\"log\", matches=None, showticklabels=True)\n",
    "fig.update_yaxes(matches=None, showticklabels=True)\n",
    "\n",
    "import plotly.io as pio\n",
    "pio.kaleido.scope.default_format = \"svg\"\n",
    "pio.kaleido.scope.default_width = 1000\n",
    "pio.kaleido.scope.default_height = 350\n",
    "\n",
    "# fig['layout']['margin'] = dict(l=20, t=20)#['t'] = 0\n",
    "# fig.show()\n",
    "# fig.update_layout(margin=dict(l=20, r=20, t=20, b=20))\n",
    "fig.write_image('n_ops.png')\n",
    "\n",
    "# from IPython.display import Image\n",
    "# img_bytes = fig.to_image(format=\"png\", width=1000, height=350, scale=1)\n",
    "# Image(img_bytes)"
   ]
  },
  {
   "cell_type": "code",
   "execution_count": null,
   "metadata": {},
   "outputs": [],
   "source": []
  }
 ],
 "metadata": {
  "kernelspec": {
   "display_name": "base",
   "language": "python",
   "name": "python3"
  },
  "language_info": {
   "codemirror_mode": {
    "name": "ipython",
    "version": 3
   },
   "file_extension": ".py",
   "mimetype": "text/x-python",
   "name": "python",
   "nbconvert_exporter": "python",
   "pygments_lexer": "ipython3",
   "version": "3.9.15"
  },
  "vscode": {
   "interpreter": {
    "hash": "3c00e5e7c7a569083cb991dfa106f557879cc0d1d84bf5b9d92fbb6bf680d358"
   }
  }
 },
 "nbformat": 4,
 "nbformat_minor": 2
}
