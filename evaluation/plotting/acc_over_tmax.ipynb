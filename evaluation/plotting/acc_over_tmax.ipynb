{
 "cells": [
  {
   "attachments": {},
   "cell_type": "markdown",
   "metadata": {},
   "source": [
    "## Number of operations"
   ]
  },
  {
   "cell_type": "code",
   "execution_count": null,
   "metadata": {},
   "outputs": [],
   "source": [
    "import numpy as np\n",
    "import plotly.express as px\n",
    "import pandas as pd\n",
    "import plotly.graph_objects as go\n",
    "import pickle \n",
    "\n",
    "mnist_tmaxs = [2**exponent for exponent in range(1,6)]\n",
    "mnist_error = 100 - np.array([89.68999981880188, 98.10999631881714, 99.04999732971191, 99.1599977016449, 99.24999475479126])\n",
    "mnist_ops = np.array([49, 66, 101, 171, 310])*1e3\n",
    "mnist = pickle.load(open('../mnist/mnist-results.pkl', 'rb'))\n",
    "\n",
    "cifar_tmaxs = [2**exponent for exponent in range(3,7)]\n",
    "cifar_error = 100 - np.array([83.30999612808228, 91.3599967956543, 92.14999675750732, 92.25999712944031])\n",
    "cifar_ops = np.array([4.356, 6.912, 12.024, 22.249]) * 1e6\n",
    "cifar = pickle.load(open('../cifar10/cifar10-results.pkl', 'rb'))\n",
    "\n",
    "imagenet_tmaxs = [2**exponent for exponent in range(4,7)]\n",
    "imagenet_error = 100 - np.array([54.44, 64.44, 67.24])\n",
    "imagenet_ops = np.array([537.928, 775.855, 1251.711]) * 1e6\n",
    "imagenet_times = [146, 290, 578]\n",
    "\n",
    "\n",
    "df = pd.DataFrame({\n",
    "    'Dataset': ['MNIST'] * 5 + ['CIFAR10'] * 4 + ['ImageNet'] * 3,\n",
    "    'Text': mnist_tmaxs + cifar_tmaxs + imagenet_tmaxs,\n",
    "    '% accuracy error': np.concatenate((mnist_error, cifar_error, imagenet_error)),\n",
    "    'Ops per frame': np.concatenate((mnist_ops, cifar_ops, imagenet_ops)), \n",
    "})\n",
    "\n",
    "df.loc[0, 'Text'] = \"$T_{\\mathrm{max}}=\\mathrm{2}$\"\n",
    "df.loc[5, 'Text'] = \"$T_{\\mathrm{max}}=\\mathrm{8}$\"\n",
    "df.loc[9, 'Text'] = \"$T_{\\mathrm{max}}=\\mathrm{16}$\"\n",
    "\n",
    "fig = px.line(df, x=\"Ops per frame\", y=\"% accuracy error\", facet_col=\"Dataset\", text=\"Text\")\n",
    "fig.update_traces(textposition=[\"middle right\", \"top right\", \"top right\", \"top center\", \"top center\"], textfont=dict(size=11)) # \"bottom left\", \"middle right\"\n",
    "\n",
    "ANN_kws = dict(showlegend=False, mode=\"markers+text\", text=['<b>ANN</b>'], textfont=dict(size=14), textposition=\"top center\", marker=dict(symbol='x', size=13, color='coral'))\n",
    "fig.add_trace(go.Scatter(x=[0.22584e6], y=[100-99.22999739646912], **ANN_kws), row = 1, col = 1)\n",
    "fig.add_trace(go.Scatter(x=[171.680256e6], y=[100-92.38999485969543], **ANN_kws), row = 1, col = 2)\n",
    "fig.add_trace(go.Scatter(x=[7609.416192e6], y=[100-68.11000108718872], **ANN_kws), row = 1, col = 3)\n",
    "\n",
    "fig.update_xaxes(type=\"log\", matches=None, showticklabels=True)\n",
    "fig.update_yaxes(matches=None, showticklabels=True)\n",
    "\n",
    "import plotly.io as pio\n",
    "pio.kaleido.scope.default_format = \"pdf\"\n",
    "pio.kaleido.scope.default_width = 1000\n",
    "pio.kaleido.scope.default_height = 350\n",
    "\n",
    "fig.update_layout(\n",
    "    # autosize=False,\n",
    "    # width=400,\n",
    "    # height=300,\n",
    "    # margin=dict(l=10,r=10,b=10,t=0),\n",
    "    template=\"plotly_white\"\n",
    ")\n",
    "\n",
    "# fig['layout']['margin'] = dict(l=20, t=20)#['t'] = 0\n",
    "# fig.show()\n",
    "# fig.update_layout(margin=dict(l=20, r=20, t=20, b=20))\n",
    "fig.write_image('n_ops.pdf')\n",
    "\n",
    "# from IPython.display import Image\n",
    "# img_bytes = fig.to_image(format=\"png\", width=1000, height=350, scale=1)\n",
    "# Image(img_bytes)"
   ]
  },
  {
   "cell_type": "markdown",
   "metadata": {},
   "source": [
    "## Accuracy over Tmax"
   ]
  },
  {
   "cell_type": "code",
   "execution_count": null,
   "metadata": {},
   "outputs": [],
   "source": [
    "df = pd.DataFrame({\n",
    "    'Dataset': ['MNIST'] * 5 + ['CIFAR10'] * 4 + ['ImageNet'] * 3,\n",
    "    'Tmax per layer': mnist_tmaxs + cifar_tmaxs + imagenet_tmaxs,\n",
    "    '% accuracy error': np.concatenate((mnist_error, cifar_error, imagenet_error)),\n",
    "    'Ops per frame': np.concatenate((mnist_ops, cifar_ops, imagenet_ops)), \n",
    "})\n",
    "df\n",
    "\n",
    "fig1 = px.line(df, x=\"Tmax per layer\", y=\"% accuracy error\", color=\"Dataset\", log_x=True)\n",
    "fig2 = px.scatter(df, x=\"Tmax per layer\", y=\"% accuracy error\", color=\"Dataset\", log_x=True)\n",
    "fig3 = go.Figure(data=fig1.data + fig2.data)\n",
    "fig3.update_xaxes(type=\"log\")\n",
    "fig3.update_layout(\n",
    "    # autosize=False,\n",
    "    # width=400,\n",
    "    # height=300,\n",
    "    xaxis_title=\"Tmax per layer\", \n",
    "    yaxis_title=\"% accuracy error\",\n",
    "    margin=dict(l=10,r=10,b=50,t=10),\n",
    "    template=\"plotly_white\",\n",
    "    # log_x=True,\n",
    ")\n",
    "fig3['data'][3]['showlegend']=False\n",
    "fig3['data'][4]['showlegend']=False\n",
    "fig3['data'][5]['showlegend']=False\n",
    "\n",
    "import plotly.io as pio\n",
    "pio.kaleido.scope.default_format = \"pdf\"\n",
    "pio.kaleido.scope.default_width = 800\n",
    "pio.kaleido.scope.default_height = 350\n",
    "\n",
    "fig3.write_image('simulation_accs.pdf')\n",
    "fig3.show()\n",
    "\n"
   ]
  },
  {
   "cell_type": "code",
   "execution_count": null,
   "metadata": {},
   "outputs": [],
   "source": [
    "mnist = pickle.load(open('../mnist/mnist-results.pkl', 'rb'))\n",
    "df = pd.DataFrame()\n",
    "\n",
    "for percentile, data_dict in mnist.items():\n",
    "    for t_max, metrics in data_dict.items():\n",
    "        df_temp = pd.DataFrame({\n",
    "            'Dataset': ['MNIST'],\n",
    "            'Normalization percentile': [percentile],\n",
    "            'Tmax': [t_max],\n",
    "            'Time steps': [metrics['time steps']],\n",
    "            'Accuracy error': [100 - metrics['acc']],\n",
    "            'Early spikes': [metrics['early spikes']],\n",
    "            'Number of operations per frame': [metrics['n_ops']],\n",
    "            'Neurons': [metrics['n_neurons']],\n",
    "            'SynOps': [metrics['n_synops']]\n",
    "        })\n",
    "        df = pd.concat((df, df_temp))\n",
    "df = df.reset_index()\n",
    "\n",
    "fig = px.line(df, x='Tmax', y='Accuracy error', color='Normalization percentile')\n",
    "fig.update_xaxes(type=\"log\", matches=None, showticklabels=True)\n",
    "fig.show()\n"
   ]
  },
  {
   "cell_type": "code",
   "execution_count": null,
   "metadata": {},
   "outputs": [],
   "source": [
    "metrics"
   ]
  },
  {
   "cell_type": "code",
   "execution_count": null,
   "metadata": {},
   "outputs": [],
   "source": [
    "df[df['Tmax'] == 16]"
   ]
  },
  {
   "cell_type": "code",
   "execution_count": null,
   "metadata": {},
   "outputs": [],
   "source": [
    "mnist[98.5][16]"
   ]
  },
  {
   "cell_type": "code",
   "execution_count": null,
   "metadata": {},
   "outputs": [],
   "source": []
  },
  {
   "attachments": {},
   "cell_type": "markdown",
   "metadata": {},
   "source": [
    "## Energy estimation"
   ]
  },
  {
   "cell_type": "code",
   "execution_count": null,
   "metadata": {},
   "outputs": [],
   "source": [
    "energy_add = lambda b1, b2: max(b1, b2) + abs(b1-b2)/2\n",
    "energy_mac = lambda b1, b2: b1*b2\n",
    "\n",
    "mnist_energy = np.array([ops*energy_add(np.log2(tmax), 32) for ops, tmax in zip(mnist_ops, mnist_tmaxs)])\n",
    "cifar_energy = np.array([ops*energy_add(np.log2(tmax), 32) for ops, tmax in zip(cifar_ops, cifar_tmaxs)])\n",
    "imagenet_energy = np.array([ops*energy_add(np.log2(tmax), 32) for ops, tmax in zip(imagenet_ops, imagenet_tmaxs)])\n",
    "\n",
    "df = pd.DataFrame({\n",
    "    'Dataset': ['MNIST'] * 5 + ['CIFAR10'] * 4 + ['ImageNet'] * 3,\n",
    "    'Text': mnist_tmaxs + cifar_tmaxs + imagenet_tmaxs,\n",
    "    '% accuracy error': np.concatenate((mnist_error, cifar_error, imagenet_error)),\n",
    "    'Relative dynamic energy per frame': np.concatenate((mnist_energy/0.22584e6/energy_mac(32,8), cifar_energy/171.680256e6/energy_mac(32,8), imagenet_energy/7609.416192e6/energy_mac(32,8))), \n",
    "})\n",
    "\n",
    "df.loc[0, 'Text'] = \"$T_{\\mathrm{max}}=\\mathrm{2}$\"\n",
    "df.loc[5, 'Text'] = \"$T_{\\mathrm{max}}=\\mathrm{8}$\"\n",
    "df.loc[9, 'Text'] = \"$T_{\\mathrm{max}}=\\mathrm{16}$\"\n",
    "\n",
    "fig = px.line(df, x=\"Relative dynamic energy per frame\", y=\"% accuracy error\", facet_col=\"Dataset\", text=\"Text\")\n",
    "fig.update_traces(textposition=[\"middle right\", \"top right\", \"top right\", \"top right\", \"top right\"], textfont=dict(size=11)) # \"bottom left\", \"middle right\"\n",
    "\n",
    "ANN_kws = dict(showlegend=False, mode=\"markers+text\", text=['<b>ANN 32bit</b>          '], textfont=dict(size=14), textposition=\"top center\", marker=dict(symbol='x', size=13, color='coral'))\n",
    "fig.add_trace(go.Scatter(x=[1], y=[100-99.22999739646912], **ANN_kws), row = 1, col = 1)\n",
    "fig.add_trace(go.Scatter(x=[1], y=[100-92.38999485969543], **ANN_kws), row = 1, col = 2)\n",
    "fig.add_trace(go.Scatter(x=[1], y=[100-68.11000108718872], **ANN_kws), row = 1, col = 3)\n",
    "\n",
    "fig.update_xaxes(type=\"log\", matches=None, showticklabels=True)\n",
    "fig.update_yaxes(matches=None, showticklabels=True)\n",
    "\n",
    "\n",
    "fig.update_layout(\n",
    "    # autosize=False,\n",
    "    # width=400,\n",
    "    # height=300,\n",
    "    # margin=dict(l=50,r=20,b=20,t=0),\n",
    "    template=\"plotly_white\"\n",
    ")\n",
    "\n",
    "import plotly.io as pio\n",
    "pio.kaleido.scope.default_format = \"pdf\"\n",
    "pio.kaleido.scope.default_width = 1000\n",
    "pio.kaleido.scope.default_height = 350\n",
    "\n",
    "fig.write_image('energy.pdf')\n"
   ]
  }
 ],
 "metadata": {
  "kernelspec": {
   "display_name": "base",
   "language": "python",
   "name": "python3"
  },
  "language_info": {
   "codemirror_mode": {
    "name": "ipython",
    "version": 3
   },
   "file_extension": ".py",
   "mimetype": "text/x-python",
   "name": "python",
   "nbconvert_exporter": "python",
   "pygments_lexer": "ipython3",
   "version": "3.9.16"
  },
  "vscode": {
   "interpreter": {
    "hash": "3c00e5e7c7a569083cb991dfa106f557879cc0d1d84bf5b9d92fbb6bf680d358"
   }
  }
 },
 "nbformat": 4,
 "nbformat_minor": 2
}
