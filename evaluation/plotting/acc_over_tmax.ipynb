{
 "cells": [
  {
   "cell_type": "code",
   "execution_count": null,
   "metadata": {},
   "outputs": [],
   "source": [
    "import matplotlib.pyplot as plt\n",
    "import numpy as np"
   ]
  },
  {
   "cell_type": "code",
   "execution_count": null,
   "metadata": {},
   "outputs": [],
   "source": [
    "mnist_tmaxs = [2**exponent for exponent in range(1, 6)]\n",
    "mnist_error = 100 - np.array([89.68999981880188, 98.10999631881714, 99.04999732971191, 99.1599977016449, 99.24999475479126])\n",
    "\n",
    "cifar_tmaxs = [2**exponent for exponent in range(3, 7)]\n",
    "cifar_error = 100 - np.array([83.30999612808228, 91.3599967956543, 92.14999675750732, 92.25999712944031])\n",
    "\n",
    "imagenet_tmaxs = [2**exponent for exponent in range(4, 7)]\n",
    "imagenet_error = 100 - np.array([54.44, 64.44, 67.24])\n",
    "imagenet_times = [146, 290, 578]"
   ]
  },
  {
   "cell_type": "code",
   "execution_count": null,
   "metadata": {},
   "outputs": [],
   "source": [
    "plt.scatter(mnist_tmaxs, mnist_error)\n",
    "plt.plot(mnist_tmaxs, mnist_error, label='MNIST')\n",
    "plt.scatter(cifar_tmaxs, cifar_error)\n",
    "plt.plot(cifar_tmaxs, cifar_error, label=\"CIFAR10\")\n",
    "plt.scatter(imagenet_tmaxs, imagenet_error)\n",
    "plt.plot(imagenet_tmaxs, imagenet_error, label=\"ImageNet\")\n",
    "plt.xscale('log')\n",
    "plt.xlim(right=100)\n",
    "plt.ylabel(\"Accuracy error [%]\")\n",
    "plt.xlabel(r\"$T_{\\mathrm{max}}$ per layer\")\n",
    "plt.legend()\n",
    "plt.grid()\n",
    "plt.tight_layout()\n",
    "plt.savefig(\"simulation_accs.png\")"
   ]
  },
  {
   "cell_type": "code",
   "execution_count": null,
   "metadata": {},
   "outputs": [],
   "source": [
    "mnist_tmaxs = [2**exponent for exponent in range(1, 6)]\n",
    "mnist_error = 100 - np.array([89.68999981880188, 98.10999631881714, 99.04999732971191, 99.1599977016449, 99.24999475479126])\n",
    "mnist_ops = np.array([49, 66, 101, 171, 310])*1e-3\n",
    "\n",
    "plt.plot(mnist_ops, mnist_error, linestyle='--')\n",
    "plt.scatter(mnist_ops, mnist_error, label='MNIST SNN')\n",
    "plt.scatter(45.168, 100-99.22999739646912, marker='x', s=100, color='C0', label='MNIST ANN')\n",
    "plt.xscale('log')\n",
    "# plt.xlim(right=100)\n",
    "plt.ylabel(\"Accuracy error [%]\")\n",
    "plt.xlabel(r\"MOps / frame\")\n",
    "plt.legend()\n",
    "plt.grid()\n",
    "plt.tight_layout()\n",
    "plt.savefig(\"simulation_accs.png\")"
   ]
  },
  {
   "cell_type": "code",
   "execution_count": null,
   "metadata": {},
   "outputs": [],
   "source": [
    "import plotly.express as px\n",
    "import pandas as pd\n",
    "import plotly.graph_objects as go\n",
    "\n",
    "df = pd.DataFrame({\n",
    "    'Dataset' : ['MNIST'] * 5,\n",
    "    'Text' : [f\"Tmax {2**exponent}\" for exponent in range(1, 6)],\n",
    "    'Accuracy error [%]': 100 - np.array([89.68999981880188, 98.10999631881714, 99.04999732971191, 99.1599977016449, 99.24999475479126]),\n",
    "    'Number of operations [MOps]' : np.array([49, 66, 101, 171, 310])*1e-3\n",
    "})\n",
    "\n",
    "df2 = pd.DataFrame({\n",
    "    'Dataset': ['MNIST'],\n",
    "    'Text': 'ANN',\n",
    "    'Accuracy error [%]': 100-99.22999739646912,\n",
    "    'Number of operations [MOps]': 45.168,\n",
    "})\n",
    "\n",
    "fig1 = px.line(df, x=\"Number of operations [MOps]\", y=\"Accuracy error [%]\", color=\"Dataset\", text=\"Text\")\n",
    "fig1.update_traces(textposition=\"top right\")\n",
    "\n",
    "fig2 = px.scatter(df2, x=\"Number of operations [MOps]\", y=\"Accuracy error [%]\", color=\"Dataset\", text=\"Text\")\n",
    "fig2.update_traces(textposition=\"top right\")\n",
    "fig = go.Figure(data=fig1.data + fig2.data, )\n",
    "fig.update_xaxes(type=\"log\")\n",
    "fig.show()\n",
    "fig.write_image('n_ops.png')"
   ]
  }
 ],
 "metadata": {
  "kernelspec": {
   "display_name": "base",
   "language": "python",
   "name": "python3"
  },
  "language_info": {
   "codemirror_mode": {
    "name": "ipython",
    "version": 3
   },
   "file_extension": ".py",
   "mimetype": "text/x-python",
   "name": "python",
   "nbconvert_exporter": "python",
   "pygments_lexer": "ipython3",
   "version": "3.9.15"
  },
  "vscode": {
   "interpreter": {
    "hash": "3c00e5e7c7a569083cb991dfa106f557879cc0d1d84bf5b9d92fbb6bf680d358"
   }
  }
 },
 "nbformat": 4,
 "nbformat_minor": 2
}
