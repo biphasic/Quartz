{
 "cells": [
  {
   "cell_type": "code",
   "execution_count": null,
   "metadata": {},
   "outputs": [],
   "source": [
    "import plotly.graph_objects as go\n",
    "\n",
    "animals = ['MNIST', 'CIFAR10']\n",
    "\n",
    "static_power_normalizer = 20\n",
    "gpu_edp = [222, 18924]\n",
    "fig = go.Figure(data=[\n",
    "    go.Bar(name='ANN on GPU (unbatched)', x=animals, y=[1]),\n",
    "    go.Bar(name='Rate code on Loihi', x=animals, y=[4.38/gpu_edp[0]]),\n",
    "    go.Bar(name='Quartz on Loihi', x=animals, y=[0.9/gpu_edp[0]]),\n",
    "])\n",
    "\n",
    "fig.update_layout(barmode='group', yaxis_title=\"EDP normalized to GPU usage\")\n",
    "fig.update_yaxes(type=\"log\")\n",
    "\n",
    "fig.update_layout(\n",
    "    autosize=False,\n",
    "    width=400,\n",
    "    height=300,\n",
    "    margin=dict(l=50,r=20,b=20,t=0),\n",
    "    template=\"plotly_white\"\n",
    ")\n",
    "fig.show()\n",
    "fig.write_image(\"EDP-comp1.png\")"
   ]
  },
  {
   "cell_type": "code",
   "execution_count": null,
   "metadata": {},
   "outputs": [],
   "source": [
    "static_power_normalizer = 20\n",
    "gpu_edp = [222, 18924]\n",
    "fig = go.Figure(data=[\n",
    "    go.Bar(name='ANN on GPU (unbatched)', x=animals, y=[1]),\n",
    "    go.Bar(name='Rate code on Loihi', x=animals, y=[34926/gpu_edp[1]]),\n",
    "    go.Bar(name='Quartz on Loihi', x=animals, y=[206047/static_power_normalizer/gpu_edp[1]]),\n",
    "])\n",
    "\n",
    "fig.update_layout(barmode='group', yaxis_title=\"EDP normalized to GPU usage\")\n",
    "# fig.update_yaxes(type=\"log\")\n",
    "\n",
    "fig.update_layout(\n",
    "    autosize=False,\n",
    "    width=400,\n",
    "    height=300,\n",
    "    margin=dict(l=50,r=20,b=20,t=0),\n",
    "    template=\"plotly_white\"\n",
    ")\n",
    "fig.show()\n",
    "fig.write_image(\"EDP-comp2.png\")"
   ]
  },
  {
   "cell_type": "code",
   "execution_count": null,
   "metadata": {},
   "outputs": [],
   "source": []
  }
 ],
 "metadata": {
  "kernelspec": {
   "display_name": "base",
   "language": "python",
   "name": "python3"
  },
  "language_info": {
   "codemirror_mode": {
    "name": "ipython",
    "version": 3
   },
   "file_extension": ".py",
   "mimetype": "text/x-python",
   "name": "python",
   "nbconvert_exporter": "python",
   "pygments_lexer": "ipython3",
   "version": "3.9.16"
  }
 },
 "nbformat": 4,
 "nbformat_minor": 2
}
