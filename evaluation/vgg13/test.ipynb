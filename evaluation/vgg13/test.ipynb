{
 "cells": [
  {
   "cell_type": "code",
   "execution_count": null,
   "metadata": {},
   "outputs": [],
   "source": [
    "import torch\n",
    "import torch.nn as nn\n",
    "import torchvision\n",
    "import sinabs\n",
    "from torchvision import transforms\n",
    "from PIL import Image\n",
    "import sinabs.layers as sl\n",
    "import numpy as np\n",
    "import quartz\n",
    "import copy\n",
    "\n",
    "np.set_printoptions(suppress=True)"
   ]
  },
  {
   "cell_type": "code",
   "execution_count": null,
   "metadata": {},
   "outputs": [],
   "source": [
    "torch.hub._validate_not_a_forked_repo = lambda a, b, c: True\n",
    "model = torch.hub.load(\"pytorch/vision:v0.10.0\", \"vgg11\", pretrained=True)\n",
    "model.eval();"
   ]
  },
  {
   "cell_type": "code",
   "execution_count": null,
   "metadata": {},
   "outputs": [],
   "source": [
    "import urllib\n",
    "\n",
    "url, filename = (\"https://github.com/pytorch/hub/raw/master/images/dog.jpg\", \"dog.jpg\")\n",
    "try:\n",
    "    urllib.URLopener().retrieve(url, filename)\n",
    "except:\n",
    "    urllib.request.urlretrieve(url, filename)"
   ]
  },
  {
   "cell_type": "code",
   "execution_count": null,
   "metadata": {},
   "outputs": [],
   "source": [
    "input_image = Image.open(filename)\n",
    "preprocess = transforms.Compose(\n",
    "    [\n",
    "        transforms.Resize(256),\n",
    "        transforms.CenterCrop(224),\n",
    "        transforms.ToTensor(),\n",
    "        # transforms.Normalize(mean=[0.485, 0.456, 0.406], std=[0.229, 0.224, 0.225]),\n",
    "    ]\n",
    ")\n",
    "input_tensor = preprocess(input_image)\n",
    "input_batch = input_tensor.unsqueeze(0)  # create a mini-batch as expected by the model"
   ]
  },
  {
   "cell_type": "code",
   "execution_count": null,
   "metadata": {},
   "outputs": [],
   "source": [
    "with torch.no_grad():\n",
    "    output = model(input_batch)\n",
    "\n",
    "# The output has unnormalized scores. To get probabilities, you can run a softmax on it.\n",
    "probabilities = torch.nn.functional.softmax(output[0], dim=0)"
   ]
  },
  {
   "cell_type": "code",
   "execution_count": null,
   "metadata": {},
   "outputs": [],
   "source": [
    "def print_probabilities(probabilities):\n",
    "    # Read the categories\n",
    "    with open(\"../imagenet_classes.txt\", \"r\") as f:\n",
    "        categories = [s.strip() for s in f.readlines()]\n",
    "    # Show top categories per image\n",
    "    top5_prob, top5_catid = torch.topk(probabilities, 5)\n",
    "    for i in range(top5_prob.size(0)):\n",
    "        print(categories[top5_catid[i]], top5_prob[i].item())"
   ]
  },
  {
   "cell_type": "code",
   "execution_count": null,
   "metadata": {},
   "outputs": [],
   "source": [
    "print_probabilities(probabilities)"
   ]
  },
  {
   "cell_type": "code",
   "execution_count": null,
   "metadata": {},
   "outputs": [],
   "source": [
    "batch_size = 1\n",
    "t_max = 64\n",
    "\n",
    "# flatten model structure\n",
    "ann = nn.Sequential(*model.features, model.avgpool, nn.Flatten(), *model.classifier)\n",
    "ann = copy.deepcopy(ann)\n",
    "ann.eval();"
   ]
  },
  {
   "cell_type": "code",
   "execution_count": null,
   "metadata": {},
   "outputs": [],
   "source": [
    "output_layers = [name for name, child in ann.named_children() if isinstance(child, nn.ReLU)]\n",
    "param_layers = [name for name, child in ann.named_children() if isinstance(child, (nn.Conv2d, nn.Linear))]\n",
    "output_layers += [param_layers[-1]]\n",
    "sample_data = input_batch.cpu()\n",
    "# param_layers = (nn.Conv2d, nn.Linear)\n",
    "percentile = 99"
   ]
  },
  {
   "cell_type": "code",
   "execution_count": null,
   "metadata": {},
   "outputs": [],
   "source": [
    "device = 'cpu'"
   ]
  },
  {
   "cell_type": "code",
   "execution_count": null,
   "metadata": {},
   "outputs": [],
   "source": [
    "sinabs.utils.normalize_weights(ann, sample_data.to(device), output_layers=output_layers, param_layers=param_layers, percentile=percentile)"
   ]
  },
  {
   "cell_type": "code",
   "execution_count": null,
   "metadata": {},
   "outputs": [],
   "source": [
    "\n",
    "activations = {}\n",
    "def save_activation(module, input, output):\n",
    "    activations[module] = output\n",
    "\n",
    "handles = [module.register_forward_hook(save_activation) for module in ann.children() if isinstance(module, param_layers)]\n",
    "\n",
    "with torch.no_grad():\n",
    "    ann(sample_data)\n",
    "\n",
    "prev_scale_factor = 1.\n",
    "\n",
    "for module in ann.children():\n",
    "    if module in activations.keys():\n",
    "        scale_factor = np.percentile(activations[module].cpu().numpy(), percentile)\n",
    "        if module.weight is not None:\n",
    "            module.weight.data *= prev_scale_factor/scale_factor\n",
    "        if hasattr(module, \"bias\") and module.bias is not None:\n",
    "            module.bias.data /= scale_factor\n",
    "        prev_scale_factor = scale_factor\n",
    "\n",
    "[handle.remove() for handle in handles];"
   ]
  },
  {
   "cell_type": "code",
   "execution_count": null,
   "metadata": {},
   "outputs": [],
   "source": [
    "output_layers = [child for name, child in ann.cpu().named_children() if isinstance(child, nn.ReLU)]\n",
    "param_layers = [child for name, child in ann.cpu().named_children() if isinstance(child, (nn.Conv2d, nn.Linear))]\n",
    "\n",
    "output_data = []\n",
    "# Hook to save data\n",
    "def save_data(module, input, output):\n",
    "    output_data.append(output.clone())\n",
    "\n",
    "# All the named layers of the module\n",
    "named_layers = dict(ann.named_children())\n",
    "\n",
    "prev_scale_factor = 1.\n",
    "for param_layer, output_layer in zip(param_layers, output_layers):\n",
    "    handle = output_layer.register_forward_hook(save_data)\n",
    "\n",
    "    with torch.no_grad():\n",
    "        _ = ann(sample_data)\n",
    "\n",
    "        # Get max output\n",
    "        layer_activation = np.percentile(output_data[-1].cpu().numpy(), percentile)\n",
    "        print(layer_activation)\n",
    "        \n",
    "        # Rescale weights to normalize max output\n",
    "        param_layer.weight.data /= prev_scale_factor/layer_activation\n",
    "        if hasattr(param_layer, \"bias\") and param_layer.bias is not None:\n",
    "            param_layer.bias.data /= layer_activation\n",
    "\n",
    "    prev_scale_factor = layer_activation\n",
    "    output_data.clear()\n",
    "    handle.remove()"
   ]
  },
  {
   "cell_type": "code",
   "execution_count": null,
   "metadata": {},
   "outputs": [],
   "source": [
    "module = list(ann.children())[-1]\n",
    "module.weight.data *= 4\n",
    "module.bias.data *= 4"
   ]
  },
  {
   "cell_type": "code",
   "execution_count": null,
   "metadata": {},
   "outputs": [],
   "source": [
    "# ann"
   ]
  },
  {
   "cell_type": "code",
   "execution_count": null,
   "metadata": {},
   "outputs": [],
   "source": [
    "with torch.no_grad():\n",
    "    output = ann(input_batch.cpu())\n",
    "\n",
    "probabilities = torch.nn.functional.softmax(output[0], dim=0)\n",
    "print_probabilities(probabilities)"
   ]
  },
  {
   "cell_type": "code",
   "execution_count": null,
   "metadata": {},
   "outputs": [],
   "source": [
    "snn = quartz.from_torch.from_model(ann, t_max=t_max, batch_size=batch_size)"
   ]
  },
  {
   "cell_type": "code",
   "execution_count": null,
   "metadata": {},
   "outputs": [],
   "source": [
    "temp_q_values = quartz.encode_inputs(input_batch, t_max=t_max)"
   ]
  },
  {
   "cell_type": "code",
   "execution_count": null,
   "metadata": {},
   "outputs": [],
   "source": [
    "# snn = snn.cuda()\n",
    "# temp_q_values = temp_q_values.cuda()"
   ]
  },
  {
   "cell_type": "code",
   "execution_count": null,
   "metadata": {},
   "outputs": [],
   "source": [
    "with torch.no_grad():\n",
    "    temp_output = snn(temp_q_values.flatten(0, 1)).unflatten(0, (batch_size, -1))\n",
    "snn_output = quartz.decode_outputs(temp_output, t_max=t_max)"
   ]
  },
  {
   "cell_type": "code",
   "execution_count": null,
   "metadata": {},
   "outputs": [],
   "source": [
    "probabilities = torch.nn.functional.softmax(snn_output[0], dim=0)\n",
    "print_probabilities(probabilities)"
   ]
  },
  {
   "cell_type": "code",
   "execution_count": null,
   "metadata": {},
   "outputs": [],
   "source": [
    "snn_output.shape"
   ]
  },
  {
   "cell_type": "code",
   "execution_count": null,
   "metadata": {},
   "outputs": [],
   "source": [
    "# torchvision.datasets.ImageNet(\"../data\", split=\"val\")"
   ]
  },
  {
   "cell_type": "code",
   "execution_count": null,
   "metadata": {},
   "outputs": [],
   "source": [
    "snn_output"
   ]
  },
  {
   "cell_type": "code",
   "execution_count": null,
   "metadata": {},
   "outputs": [],
   "source": []
  }
 ],
 "metadata": {
  "interpreter": {
   "hash": "caf264bf03997fa53b380c84044763293a7a6f8ebb5555ee5243fd4d1f495be6"
  },
  "kernelspec": {
   "display_name": "Python 3.8.8 ('base')",
   "language": "python",
   "name": "python3"
  },
  "language_info": {
   "codemirror_mode": {
    "name": "ipython",
    "version": 3
   },
   "file_extension": ".py",
   "mimetype": "text/x-python",
   "name": "python",
   "nbconvert_exporter": "python",
   "pygments_lexer": "ipython3",
   "version": "3.8.8"
  }
 },
 "nbformat": 4,
 "nbformat_minor": 2
}
