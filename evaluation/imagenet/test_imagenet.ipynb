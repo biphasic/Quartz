{
 "cells": [
  {
   "cell_type": "code",
   "execution_count": null,
   "metadata": {},
   "outputs": [],
   "source": [
    "import torch\n",
    "import torch.nn as nn\n",
    "import torchvision\n",
    "import torchvision.models as models\n",
    "import sinabs\n",
    "from torchvision import transforms\n",
    "from PIL import Image\n",
    "import sinabs.layers as sl\n",
    "import numpy as np\n",
    "import quartz\n",
    "import copy\n",
    "from tqdm.auto import tqdm\n",
    "from quartz.utils import get_accuracy, encode_inputs, decode_outputs, plot_output_histograms, plot_output_comparison\n",
    "\n",
    "\n",
    "np.set_printoptions(suppress=True)"
   ]
  },
  {
   "cell_type": "code",
   "execution_count": null,
   "metadata": {},
   "outputs": [],
   "source": [
    "preprocess = transforms.Compose(\n",
    "    [\n",
    "        transforms.ToTensor(),\n",
    "        transforms.Resize(256),\n",
    "        transforms.CenterCrop(224),\n",
    "        # transforms.Normalize(mean=[0.485, 0.456, 0.406], std=[0.229, 0.224, 0.225]),\n",
    "    ]\n",
    ")"
   ]
  },
  {
   "cell_type": "code",
   "execution_count": null,
   "metadata": {},
   "outputs": [],
   "source": [
    "imagenet = torchvision.datasets.ImageNet('/home/gregorlenz/Development/playground/data/ImageNet/', split='val', transform=preprocess)"
   ]
  },
  {
   "cell_type": "code",
   "execution_count": null,
   "metadata": {},
   "outputs": [],
   "source": [
    "testloader = torch.utils.data.DataLoader(imagenet, batch_size=128, shuffle=True, num_workers=4)"
   ]
  },
  {
   "cell_type": "code",
   "execution_count": null,
   "metadata": {},
   "outputs": [],
   "source": [
    "device = \"cuda\"\n",
    "cpu = \"cpu\"\n",
    "\n",
    "model = models.vgg11(weights=models.vgg.VGG11_Weights.DEFAULT)\n",
    "# model = models.vgg11_bn(weights=models.vgg.VGG11_BN_Weights.DEFAULT)"
   ]
  },
  {
   "cell_type": "code",
   "execution_count": null,
   "metadata": {},
   "outputs": [],
   "source": [
    "layer1 = nn.Conv2d(3, 3, kernel_size=1, groups=3)\n",
    "layer1.weight.data /= layer1.weight.data\n",
    "layer1.bias = torch.nn.Parameter(-1*torch.tensor([0.485, 0.456, 0.406]))\n",
    "\n",
    "layer2 = nn.Conv2d(3, 3, kernel_size=1, groups=3)\n",
    "layer2.weight = nn.Parameter(1/torch.tensor([0.229, 0.224, 0.225]).unsqueeze(1).unsqueeze(1).unsqueeze(1))\n",
    "layer2.bias.data -= layer2.bias.data\n",
    "\n",
    "model = nn.Sequential(layer1, layer2, *model.features, model.avgpool, nn.Flatten(), *model.classifier[0:2], *model.classifier[3:5], model.classifier[-1]) #*model.classifier)\n",
    "model = model.eval()"
   ]
  },
  {
   "cell_type": "code",
   "execution_count": null,
   "metadata": {},
   "outputs": [],
   "source": [
    "for layer in list(model.children())[2:]:\n",
    "    if isinstance(layer, nn.ReLU):\n",
    "        layer.inplace = False\n",
    "    # if hasattr(layer, \"bias\"):\n",
    "    #     layer.bias.data *= 0"
   ]
  },
  {
   "cell_type": "code",
   "execution_count": null,
   "metadata": {},
   "outputs": [],
   "source": [
    "# model"
   ]
  },
  {
   "cell_type": "code",
   "execution_count": null,
   "metadata": {},
   "outputs": [],
   "source": [
    "# get_accuracy(model, testloader, device)"
   ]
  },
  {
   "cell_type": "code",
   "execution_count": null,
   "metadata": {},
   "outputs": [],
   "source": [
    "def normalize_weights(\n",
    "    ann: nn.Module,\n",
    "    sample_data: torch.Tensor,\n",
    "    output_layers,\n",
    "    param_layers,\n",
    "    percentile: float = 99,\n",
    "    scale_factor = 1.\n",
    "):\n",
    "    ann = ann.eval()\n",
    "    max_out = []\n",
    "    def save_data(lyr, input, output):\n",
    "        max_out.append(np.percentile(output.cpu().detach().numpy(), percentile))\n",
    "\n",
    "    named_layers = dict(ann.named_children())\n",
    "\n",
    "    handles = []\n",
    "    for i in range(len(param_layers)):\n",
    "        param_layer = named_layers[param_layers[i]]\n",
    "        handle = param_layer.register_forward_hook(save_data)\n",
    "        handles.append(handle)\n",
    "\n",
    "    with torch.no_grad():\n",
    "        _ = ann(sample_data)\n",
    "\n",
    "    print(max_out)\n",
    " \n",
    "    for i in range(len(param_layers)):\n",
    "        param_layer = named_layers[param_layers[i]]\n",
    "        prev_scale = 1 if i == 0 else max_out[i-1]\n",
    "        scale = max_out[i]\n",
    "        param_layer.weight.data *= prev_scale/scale\n",
    "        param_layer.bias.data /= scale\n",
    "\n",
    "    [handle.remove() for handle in handles]"
   ]
  },
  {
   "cell_type": "code",
   "execution_count": null,
   "metadata": {},
   "outputs": [],
   "source": [
    "def normalize_weights(\n",
    "    ann: nn.Module,\n",
    "    sample_data: torch.Tensor,\n",
    "    output_layers,\n",
    "    param_layers,\n",
    "    percentile: float = 99,\n",
    "):\n",
    "    \"\"\"\n",
    "    Rescale the weights of the network, such that the activity of each specified layer is normalized.\n",
    "\n",
    "    The method implemented here roughly follows the paper:\n",
    "    `Conversion of Continuous-Valued Deep Networks to Efficient Event-Driven Networks for Image Classification` by Rueckauer et al.\n",
    "    https://www.frontiersin.org/article/10.3389/fnins.2017.00682\n",
    "\n",
    "    Args:\n",
    "         ann(nn.Module): Torch module\n",
    "         sample_data (nn.Tensor): Input data to normalize the network with\n",
    "         output_layers (List[str]): List of layers to verify activity of normalization. Typically this is a relu layer\n",
    "         param_layers (List[str]): List of layers whose parameters preceed `output_layers`\n",
    "         percentile (float): A number between 0 and 100 to determine activity to be normalized by.\n",
    "          where a 100 corresponds to the max activity of the network. Defaults to 99.\n",
    "    \"\"\"\n",
    "    # Network activity storage\n",
    "    output_data = []\n",
    "\n",
    "    # Hook to save data\n",
    "    def save_data(lyr, input, output):\n",
    "        output_data.append(output.clone())\n",
    "\n",
    "    # All the named layers of the module\n",
    "    named_layers = dict(ann.named_children())\n",
    "\n",
    "    all_outputs = []\n",
    "\n",
    "    for i in range(len(param_layers)):\n",
    "        param_layer = named_layers[param_layers[i]]\n",
    "        # output_layer = named_layers[output_layers[i]]\n",
    "\n",
    "        handle = param_layer.register_forward_hook(save_data)\n",
    "\n",
    "        with torch.no_grad():\n",
    "            _ = ann(sample_data)\n",
    "\n",
    "            # Get max output\n",
    "            max_lyr_out = np.percentile(output_data[-1].cpu().numpy(), percentile)\n",
    "            all_outputs.append(max_lyr_out)\n",
    "\n",
    "            param_layer.weight.data /= max_lyr_out\n",
    "            if hasattr(param_layer, 'bias'):\n",
    "                param_layer.bias.data /= np.product(np.array(all_outputs))\n",
    "\n",
    "            # # Rescale weights to normalize max output\n",
    "            # for p in param_layer.parameters():\n",
    "            #     p.data *= 1 / max_lyr_out\n",
    "\n",
    "        output_data.clear()\n",
    "        # Deregister hook\n",
    "        handle.remove()\n"
   ]
  },
  {
   "cell_type": "code",
   "execution_count": null,
   "metadata": {},
   "outputs": [],
   "source": [
    "norm_model = copy.deepcopy(model)\n",
    "norm_model = norm_model.eval()\n",
    "norm_model[2].weight.data /= 10\n",
    "norm_model[2].bias.data /= 10\n",
    "norm_model[5].weight.data /= 2\n",
    "norm_model[5].bias.data /= 20\n",
    "\n",
    "for layer in ['8', '10', '13', '15', '18', '20', '25', '27', '29']:\n",
    "    norm_model[int(layer)].bias.data /= 20"
   ]
  },
  {
   "cell_type": "code",
   "execution_count": null,
   "metadata": {},
   "outputs": [],
   "source": [
    "# normloader = torch.utils.data.DataLoader(imagenet, batch_size=10, shuffle=True, num_workers=6)\n",
    "# images, labels = next(iter(normloader))\n",
    "\n",
    "# np.percentile(norm_model[:2](images).detach().numpy(), percentile)"
   ]
  },
  {
   "cell_type": "code",
   "execution_count": null,
   "metadata": {},
   "outputs": [],
   "source": [
    "param_layers = [name for name, child in norm_model.named_children() if isinstance(child, (nn.Conv2d, nn.Linear))][2:]\n",
    "output_layers = [name for name, child in norm_model.named_children() if isinstance(child, nn.ReLU)]\n",
    "# output_layers += [param_layers[-1]]\n",
    "# output_layers = ['0'] + output_layers\n",
    "# output_layers = ['1'] + output_layers\n",
    "\n",
    "# param_layers = ['25', '27']\n",
    "# output_layers = ['26', '28']\n",
    "param_layers = ['2', '5', '8', '10', '13']\n",
    "output_layers = ['3', '6']\n",
    "percentile = 99.99\n",
    "\n",
    "print(param_layers)\n",
    "print(output_layers)"
   ]
  },
  {
   "cell_type": "code",
   "execution_count": null,
   "metadata": {},
   "outputs": [],
   "source": [
    "normloader = torch.utils.data.DataLoader(imagenet, batch_size=150, shuffle=True, num_workers=0)\n",
    "images, labels = next(iter(normloader))\n",
    "scale_factor = 1."
   ]
  },
  {
   "cell_type": "code",
   "execution_count": null,
   "metadata": {},
   "outputs": [],
   "source": [
    "# normalize_weights(norm_model.to(device), images.to(device), output_layers=output_layers, param_layers=param_layers, percentile=percentile, scale_factor=scale_factor)\n",
    "# norm_model = norm_model.cpu()\n",
    "# images = images.cpu()"
   ]
  },
  {
   "cell_type": "code",
   "execution_count": null,
   "metadata": {},
   "outputs": [],
   "source": [
    "device = 'cpu'\n",
    "plot_output_comparison(model.to(device), norm_model.to(device), images.to(device), output_layers=param_layers, every_n=10000, every_c=10)#, savefig=f\"norm_activation_comparison_scale{scale_factor}.png\")\n",
    "device = 'cuda'"
   ]
  },
  {
   "cell_type": "code",
   "execution_count": null,
   "metadata": {},
   "outputs": [],
   "source": [
    "# for name, params in norm_model.named_parameters():\n",
    "#     print(f\"Layer {name}    \\t {params.min():.2f}/{params.max():.2f}\")"
   ]
  },
  {
   "cell_type": "code",
   "execution_count": null,
   "metadata": {},
   "outputs": [],
   "source": [
    "get_accuracy(norm_model, testloader, device=device)#\"cpu\")"
   ]
  },
  {
   "cell_type": "code",
   "execution_count": null,
   "metadata": {},
   "outputs": [],
   "source": [
    "assert False"
   ]
  },
  {
   "cell_type": "code",
   "execution_count": null,
   "metadata": {},
   "outputs": [],
   "source": [
    "snnloader = torch.utils.data.DataLoader(imagenet, batch_size=2, shuffle=True, num_workers=4)\n",
    "\n",
    "accuracies = []\n",
    "# for exponent in range(5, 7):\n",
    "exponent = 5\n",
    "t_max = 2**exponent\n",
    "snn = quartz.from_torch.from_model(norm_model, t_max=t_max, add_spiking_output=True).eval()\n",
    "snn = snn[2:] # nn.Sequential(*snn[:2], quartz.IF(t_max=t_max, rectification=False), *"
   ]
  },
  {
   "cell_type": "code",
   "execution_count": null,
   "metadata": {},
   "outputs": [],
   "source": [
    "assert 1 == 0;"
   ]
  },
  {
   "cell_type": "code",
   "execution_count": null,
   "metadata": {},
   "outputs": [],
   "source": [
    "snn = snn.cpu()\n",
    "norm_model = norm_model.cpu()\n",
    "\n",
    "torch.random.manual_seed(6)\n",
    "# snn[1].module.weight.data /= 2\n",
    "\n",
    "# images, labels = next(iter(snnloader))\n",
    "for images, labels in iter(snnloader):\n",
    "    norm_images = norm_model[:2](images)\n",
    "    temp_images = encode_inputs(norm_images, t_max=t_max)\n",
    "    conv_output = snn(temp_images)\n",
    "    snn_output = decode_outputs(conv_output, t_max=t_max)\n",
    "    print(snn_output.argmax(1) == labels)\n",
    "\n",
    "ann_output = norm_model(images)"
   ]
  },
  {
   "cell_type": "code",
   "execution_count": null,
   "metadata": {},
   "outputs": [],
   "source": [
    "snn[1].early_spikes"
   ]
  },
  {
   "cell_type": "code",
   "execution_count": null,
   "metadata": {},
   "outputs": [],
   "source": [
    "ann_output.argmax(1)"
   ]
  },
  {
   "cell_type": "code",
   "execution_count": null,
   "metadata": {},
   "outputs": [],
   "source": [
    "snn_output.argmax(1)"
   ]
  },
  {
   "cell_type": "code",
   "execution_count": null,
   "metadata": {},
   "outputs": [],
   "source": []
  },
  {
   "cell_type": "code",
   "execution_count": null,
   "metadata": {},
   "outputs": [],
   "source": [
    "accuracy = get_accuracy(snn, testloader, device=\"cpu\", t_max=t_max)\n",
    "accuracies.append(accuracy)\n",
    "print(f\"{t_max} time steps: {round(accuracy, 3)}%\")"
   ]
  },
  {
   "cell_type": "code",
   "execution_count": null,
   "metadata": {},
   "outputs": [],
   "source": [
    "snn"
   ]
  },
  {
   "cell_type": "code",
   "execution_count": null,
   "metadata": {},
   "outputs": [],
   "source": []
  },
  {
   "cell_type": "code",
   "execution_count": null,
   "metadata": {},
   "outputs": [],
   "source": [
    "snn"
   ]
  },
  {
   "cell_type": "code",
   "execution_count": null,
   "metadata": {},
   "outputs": [],
   "source": [
    "with torch.no_grad():\n",
    "    output = ann(input_batch.cpu())\n",
    "\n",
    "probabilities = torch.nn.functional.softmax(output[0], dim=0)\n",
    "print_probabilities(probabilities)"
   ]
  },
  {
   "cell_type": "code",
   "execution_count": null,
   "metadata": {},
   "outputs": [],
   "source": [
    "snn = quartz.from_torch.from_model(ann, t_max=t_max, batch_size=batch_size)"
   ]
  },
  {
   "cell_type": "code",
   "execution_count": null,
   "metadata": {},
   "outputs": [],
   "source": [
    "temp_q_values = quartz.encode_inputs(input_batch, t_max=t_max)"
   ]
  },
  {
   "cell_type": "code",
   "execution_count": null,
   "metadata": {},
   "outputs": [],
   "source": [
    "# snn = snn.cuda()\n",
    "# temp_q_values = temp_q_values.cuda()"
   ]
  },
  {
   "cell_type": "code",
   "execution_count": null,
   "metadata": {},
   "outputs": [],
   "source": [
    "with torch.no_grad():\n",
    "    temp_output = snn(temp_q_values.flatten(0, 1)).unflatten(0, (batch_size, -1))\n",
    "snn_output = quartz.decode_outputs(temp_output, t_max=t_max)"
   ]
  },
  {
   "cell_type": "code",
   "execution_count": null,
   "metadata": {},
   "outputs": [],
   "source": [
    "probabilities = torch.nn.functional.softmax(snn_output[0], dim=0)\n",
    "print_probabilities(probabilities)"
   ]
  },
  {
   "cell_type": "code",
   "execution_count": null,
   "metadata": {},
   "outputs": [],
   "source": [
    "snn_output.shape"
   ]
  },
  {
   "cell_type": "code",
   "execution_count": null,
   "metadata": {},
   "outputs": [],
   "source": [
    "# torchvision.datasets.ImageNet(\"../data\", split=\"val\")"
   ]
  },
  {
   "cell_type": "code",
   "execution_count": null,
   "metadata": {},
   "outputs": [],
   "source": [
    "snn_output"
   ]
  },
  {
   "cell_type": "code",
   "execution_count": null,
   "metadata": {},
   "outputs": [],
   "source": []
  }
 ],
 "metadata": {
  "interpreter": {
   "hash": "caf264bf03997fa53b380c84044763293a7a6f8ebb5555ee5243fd4d1f495be6"
  },
  "kernelspec": {
   "display_name": "Python 3.8.8 ('base')",
   "language": "python",
   "name": "python3"
  },
  "language_info": {
   "codemirror_mode": {
    "name": "ipython",
    "version": 3
   },
   "file_extension": ".py",
   "mimetype": "text/x-python",
   "name": "python",
   "nbconvert_exporter": "python",
   "pygments_lexer": "ipython3",
   "version": "3.8.8"
  }
 },
 "nbformat": 4,
 "nbformat_minor": 2
}
