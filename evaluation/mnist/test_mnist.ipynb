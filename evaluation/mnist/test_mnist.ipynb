{
 "cells": [
  {
   "cell_type": "code",
   "execution_count": null,
   "metadata": {},
   "outputs": [],
   "source": [
    "import torch\n",
    "import torch.nn as nn\n",
    "from torch.utils.data import DataLoader\n",
    "import sinabs\n",
    "from torchvision import transforms, datasets\n",
    "import sinabs.layers as sl\n",
    "import numpy as np\n",
    "import quartz\n",
    "from quartz.utils import get_accuracy, encode_inputs, decode_outputs, plot_output_histograms, plot_output_comparison, normalize_weights, plot_output_comparison_ann_snn\n",
    "from mnist_model import ConvNet\n",
    "from copy import deepcopy\n",
    "from typing import List\n",
    "import matplotlib.pyplot as plt\n",
    "\n",
    "np.set_printoptions(suppress=True)"
   ]
  },
  {
   "cell_type": "code",
   "execution_count": null,
   "metadata": {},
   "outputs": [],
   "source": [
    "device = 'cuda' if torch.cuda.is_available() else 'cpu'\n",
    "batch_size = 200\n",
    "num_workers = 4\n",
    "\n",
    "transform = transforms.Compose([transforms.ToTensor()])\n",
    "valid_dataset = datasets.MNIST(root='./data', train=False, download=True, transform=transform)\n",
    "valid_loader = DataLoader(dataset=valid_dataset, batch_size=batch_size, shuffle=False, num_workers=num_workers, drop_last=True)"
   ]
  },
  {
   "cell_type": "code",
   "execution_count": null,
   "metadata": {},
   "outputs": [],
   "source": [
    "state_dict = torch.load(\"mnist-convnet.pth\", map_location=torch.device(device))\n",
    "ann = ConvNet()\n",
    "\n",
    "ann[0].weight.data = state_dict['conv1.weight']\n",
    "ann[0].bias.data = state_dict['conv1.bias']\n",
    "ann[3].weight.data = state_dict['conv2.weight']\n",
    "ann[3].bias.data = state_dict['conv2.bias']\n",
    "ann[6].weight.data = state_dict['conv3.weight']\n",
    "ann[6].bias.data = state_dict['conv3.bias']\n",
    "ann[10].weight.data = state_dict['fc1.weight']\n",
    "ann[10].bias.data = state_dict['fc1.bias']\n",
    "\n",
    "ann.eval();\n",
    "# get_accuracy(ann, valid_loader, device)"
   ]
  },
  {
   "cell_type": "code",
   "execution_count": null,
   "metadata": {},
   "outputs": [],
   "source": [
    "norm_ann = deepcopy(ann)\n",
    "param_layer_names = [name for name, child in norm_ann.named_children() if isinstance(child, (nn.Conv2d, nn.Linear))]\n",
    "normalise_loader = DataLoader(dataset=valid_dataset, batch_size=10000, shuffle=True)\n",
    "all_test_images = next(iter(normalise_loader))[0]\n",
    "percentile = 99.99"
   ]
  },
  {
   "cell_type": "code",
   "execution_count": null,
   "metadata": {},
   "outputs": [],
   "source": [
    "normalize_weights(norm_ann, all_test_images.to(device), param_layer_names=param_layer_names, percentile=percentile)"
   ]
  },
  {
   "cell_type": "code",
   "execution_count": null,
   "metadata": {},
   "outputs": [],
   "source": [
    "output_layer_names = [name for name, child in norm_ann.named_children() if isinstance(child, nn.ReLU)]\n",
    "output_layer_names += [param_layer_names[-1]]\n",
    "# sinabs.utils.normalize_weights(norm_ann, sample_data.to(device), param_layers=param_layer_names, output_layers=output_layer_names, percentile=percentile)"
   ]
  },
  {
   "cell_type": "code",
   "execution_count": null,
   "metadata": {},
   "outputs": [],
   "source": [
    "# get_accuracy(norm_ann, valid_loader, device)"
   ]
  },
  {
   "cell_type": "code",
   "execution_count": null,
   "metadata": {},
   "outputs": [],
   "source": [
    "# plot_output_comparison(ann.to(device), norm_ann.to(device), sample_data.to(device), param_layer_names, every_n=100, savefig=f\"norm_activation_correct_biases.png\")"
   ]
  },
  {
   "cell_type": "code",
   "execution_count": null,
   "metadata": {},
   "outputs": [],
   "source": [
    "# with torch.no_grad():\n",
    "#     norm_ann[-1].weight *= 1.5\n",
    "#     norm_ann[-1].bias *= 1.5\n",
    "# get_accuracy(norm_ann, valid_loader, device)"
   ]
  },
  {
   "cell_type": "code",
   "execution_count": null,
   "metadata": {},
   "outputs": [],
   "source": [
    "cpu = 'cpu'\n",
    "t_max = 2**6\n",
    "\n",
    "sample_data = next(iter(valid_loader))[0]\n",
    "\n",
    "snn = quartz.from_torch.from_model(norm_ann, t_max=t_max, add_spiking_output=True).to(cpu).eval()\n",
    "snn_output_layers = [name for name, child in snn.named_children() if isinstance(child, quartz.IF)]"
   ]
  },
  {
   "cell_type": "code",
   "execution_count": null,
   "metadata": {},
   "outputs": [],
   "source": [
    "plot_output_comparison_ann_snn(norm_ann.to(cpu), snn.to(cpu), sample_data.to(cpu), \n",
    "    ann_output_layers=output_layer_names, \n",
    "    snn_output_layers=snn_output_layers, \n",
    "    t_max=t_max, \n",
    "    every_n=10, \n",
    "    every_c=1, \n",
    "    savefig=f\"ann-snn-comparison-tmax{t_max}-percentile{percentile}.png\"\n",
    ")"
   ]
  },
  {
   "cell_type": "code",
   "execution_count": null,
   "metadata": {},
   "outputs": [],
   "source": [
    "q_ann = deepcopy(norm_ann)\n",
    "for exponent in range(1, 7):\n",
    "    t_max = 2**exponent\n",
    "    def quantize(module, input, output):\n",
    "        return (output * t_max).round() / t_max\n",
    "\n",
    "    for module in q_ann.children():\n",
    "        if isinstance(module, nn.ReLU):\n",
    "            module.register_forward_hook(quantize)\n",
    "    q_ann[-1].register_forward_hook(quantize)\n",
    "\n",
    "    accuracy = get_accuracy(q_ann, valid_loader, device)\n",
    "    print(f\"{t_max} time steps: {round(accuracy, 3)}%\")"
   ]
  },
  {
   "cell_type": "code",
   "execution_count": null,
   "metadata": {},
   "outputs": [],
   "source": [
    "accuracies = []\n",
    "for exponent in range(1, 7):\n",
    "    t_max = 2**exponent\n",
    "    snn = quartz.from_torch.from_model(norm_ann, t_max=t_max, add_spiking_output=True).to(device).eval()\n",
    "    accuracy = get_accuracy(snn, valid_loader, device, t_max=t_max, print_early_spikes=True, print_output_time=True)\n",
    "    accuracies.append(accuracy)\n",
    "    print(f\"{t_max} time steps: {round(accuracy, 3)}%\")"
   ]
  },
  {
   "cell_type": "code",
   "execution_count": null,
   "metadata": {},
   "outputs": [],
   "source": [
    "accuracies"
   ]
  },
  {
   "cell_type": "code",
   "execution_count": null,
   "metadata": {},
   "outputs": [],
   "source": [
    "t_max = 2**3+1\n",
    "images, label = next(iter(valid_loader))\n",
    "spikes = encode_inputs(images, t_max=t_max).to(device)\n",
    "snn = quartz.from_torch.from_model(norm_ann, t_max=t_max, add_spiking_output=True).to(device).eval()\n",
    "output_layers = [child for name, child in snn.named_children() if isinstance(child, sl.StatefulLayer)]\n",
    "\n",
    "plot_output_histograms(snn, spikes, output_layers, t_max=t_max)"
   ]
  },
  {
   "cell_type": "code",
   "execution_count": null,
   "metadata": {},
   "outputs": [],
   "source": [
    "t_max = 2**3+1\n",
    "def quantize(module, input, output):\n",
    "    return (output * t_max).int() / t_max\n",
    "\n",
    "for module in ann.children():\n",
    "    if isinstance(module, nn.ReLU):\n",
    "        module.register_forward_hook(quantize)\n",
    "\n",
    "param_layers = [child for name, child in ann.named_children() if isinstance(child, (nn.Conv2d, nn.Linear))]\n",
    "output_layers = [child for name, child in ann.named_children() if isinstance(child, nn.ReLU)]\n",
    "output_layers += [param_layers[-1]]\n",
    "plot_output_histograms(ann, images.to(device), output_layers)"
   ]
  },
  {
   "cell_type": "code",
   "execution_count": null,
   "metadata": {},
   "outputs": [],
   "source": [
    "snn"
   ]
  },
  {
   "cell_type": "code",
   "execution_count": null,
   "metadata": {},
   "outputs": [],
   "source": [
    "t_max = 2**5\n",
    "snn = quartz.from_torch.from_model(ann, t_max=t_max, add_spiking_output=True).to(device).eval()\n",
    "synop_counter = sinabs.SNNSynOpCounter(snn)\n",
    "accuracy = get_accuracy(snn, valid_loader, device, t_max=t_max)\n",
    "print(f\"{t_max} time steps: {round(accuracy, 3)}%\")"
   ]
  },
  {
   "cell_type": "code",
   "execution_count": null,
   "metadata": {},
   "outputs": [],
   "source": [
    "synop_counter.get_total_synops()"
   ]
  },
  {
   "cell_type": "code",
   "execution_count": null,
   "metadata": {},
   "outputs": [],
   "source": [
    "synop_counter.get_total_synops()"
   ]
  }
 ],
 "metadata": {
  "kernelspec": {
   "display_name": "Python 3.9.7 ('base')",
   "language": "python",
   "name": "python3"
  },
  "language_info": {
   "codemirror_mode": {
    "name": "ipython",
    "version": 3
   },
   "file_extension": ".py",
   "mimetype": "text/x-python",
   "name": "python",
   "nbconvert_exporter": "python",
   "pygments_lexer": "ipython3",
   "version": "3.9.7"
  },
  "vscode": {
   "interpreter": {
    "hash": "08ccb38fe61fa1a513d17600ee3143c806693551c71679f6a7a34d9dc326cda4"
   }
  }
 },
 "nbformat": 4,
 "nbformat_minor": 2
}
