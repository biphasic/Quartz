{
 "cells": [
  {
   "cell_type": "code",
   "execution_count": null,
   "metadata": {},
   "outputs": [],
   "source": [
    "import torch\n",
    "import torch.nn as nn\n",
    "from torch.utils.data import DataLoader\n",
    "import sinabs\n",
    "from torchvision import transforms, datasets\n",
    "import sinabs.layers as sl\n",
    "import numpy as np\n",
    "import quartz\n",
    "from quartz.utils import get_accuracy, encode_inputs, decode_outputs, plot_output_histograms\n",
    "from mnist_model import ConvNet\n",
    "from copy import deepcopy\n",
    "\n",
    "np.set_printoptions(suppress=True)"
   ]
  },
  {
   "cell_type": "code",
   "execution_count": null,
   "metadata": {},
   "outputs": [],
   "source": [
    "device = 'cuda' if torch.cuda.is_available() else 'cpu'\n",
    "batch_size = 100\n",
    "num_workers = 4\n",
    "\n",
    "transform = transforms.Compose([transforms.ToTensor()])\n",
    "valid_dataset = datasets.MNIST(root='./data', train=False, download=True, transform=transform)\n",
    "valid_loader = DataLoader(dataset=valid_dataset, batch_size=batch_size, shuffle=False, num_workers=0, drop_last=True)"
   ]
  },
  {
   "cell_type": "code",
   "execution_count": null,
   "metadata": {},
   "outputs": [],
   "source": [
    "state_dict = torch.load(\"mnist-convnet.pth\", map_location=torch.device(device))\n",
    "ann = ConvNet()\n",
    "\n",
    "ann[0].weight.data = state_dict['conv1.weight']\n",
    "ann[0].bias.data = state_dict['conv1.bias']\n",
    "ann[3].weight.data = state_dict['conv2.weight']\n",
    "ann[3].bias.data = state_dict['conv2.bias']\n",
    "ann[6].weight.data = state_dict['conv3.weight']\n",
    "ann[6].bias.data = state_dict['conv3.bias']\n",
    "ann[10].weight.data = state_dict['fc1.weight']\n",
    "ann[10].bias.data = state_dict['fc1.bias']\n",
    "\n",
    "ann.eval();\n",
    "get_accuracy(ann, valid_loader, device)"
   ]
  },
  {
   "cell_type": "code",
   "execution_count": null,
   "metadata": {},
   "outputs": [],
   "source": [
    "param_layers = [name for name, child in ann.named_children() if isinstance(child, (nn.Conv2d, nn.Linear))]\n",
    "output_layers = [name for name, child in ann.named_children() if isinstance(child, nn.ReLU)]\n",
    "output_layers += [param_layers[-1]]\n",
    "normalise_loader = DataLoader(dataset=valid_dataset, batch_size=10000, shuffle=True)\n",
    "sample_data = next(iter(normalise_loader))[0]\n",
    "percentile = 99.99\n",
    "\n",
    "sinabs.utils.normalize_weights(ann, sample_data.to(device), output_layers=output_layers, param_layers=param_layers, percentile=percentile)\n",
    "get_accuracy(ann, valid_loader, device)"
   ]
  },
  {
   "cell_type": "code",
   "execution_count": null,
   "metadata": {},
   "outputs": [],
   "source": [
    "# with torch.no_grad():\n",
    "#     ann[-1].weight *= 1.5\n",
    "# ann[-1].weight\n",
    "# get_accuracy(ann, valid_loader, device)"
   ]
  },
  {
   "cell_type": "code",
   "execution_count": null,
   "metadata": {},
   "outputs": [],
   "source": [
    "q_ann = deepcopy(ann)\n",
    "for exponent in range(1, 7):\n",
    "    t_max = 2**exponent\n",
    "    def quantize(module, input, output):\n",
    "        return (output * t_max).round() / t_max\n",
    "\n",
    "    for module in q_ann.children():\n",
    "        if isinstance(module, nn.ReLU):\n",
    "            module.register_forward_hook(quantize)\n",
    "    q_ann[-1].register_forward_hook(quantize)\n",
    "\n",
    "    accuracy = get_accuracy(q_ann, valid_loader, device)\n",
    "    print(f\"{t_max} time steps: {round(accuracy, 3)}%\")"
   ]
  },
  {
   "cell_type": "code",
   "execution_count": null,
   "metadata": {},
   "outputs": [],
   "source": [
    "for exponent in range(1, 7):\n",
    "    t_max = 2**exponent\n",
    "    snn = quartz.from_torch.from_model(ann, t_max=t_max, add_spiking_output=True).to(device).eval()\n",
    "    accuracy = get_accuracy(snn, valid_loader, device, t_max=t_max)\n",
    "    print(f\"{t_max} time steps: {round(accuracy, 3)}%\")"
   ]
  },
  {
   "cell_type": "code",
   "execution_count": null,
   "metadata": {},
   "outputs": [],
   "source": [
    "t_max = 2**3+1\n",
    "images, label = next(iter(valid_loader))\n",
    "spikes = encode_inputs(images, t_max=t_max).to(device)\n",
    "snn = quartz.from_torch.from_model(ann, t_max=t_max, add_spiking_output=True).to(device).eval()\n",
    "output_layers = [child for name, child in snn.named_children() if isinstance(child, sl.StatefulLayer)]\n",
    "\n",
    "plot_output_histograms(snn, spikes, output_layers, t_max=t_max)"
   ]
  },
  {
   "cell_type": "code",
   "execution_count": null,
   "metadata": {},
   "outputs": [],
   "source": [
    "t_max = 2**3+1\n",
    "def quantize(module, input, output):\n",
    "    return (output * t_max).int() / t_max\n",
    "\n",
    "for module in ann.children():\n",
    "    if isinstance(module, nn.ReLU):\n",
    "        module.register_forward_hook(quantize)\n",
    "\n",
    "param_layers = [child for name, child in ann.named_children() if isinstance(child, (nn.Conv2d, nn.Linear))]\n",
    "output_layers = [child for name, child in ann.named_children() if isinstance(child, nn.ReLU)]\n",
    "output_layers += [param_layers[-1]]\n",
    "plot_output_histograms(ann, images.to(device), output_layers)"
   ]
  },
  {
   "cell_type": "code",
   "execution_count": null,
   "metadata": {},
   "outputs": [],
   "source": [
    "snn"
   ]
  },
  {
   "cell_type": "code",
   "execution_count": null,
   "metadata": {},
   "outputs": [],
   "source": [
    "ann = ann.eval()\n",
    "ann[8](torch.ones((10, 8, 3, 3)))"
   ]
  }
 ],
 "metadata": {
  "kernelspec": {
   "display_name": "Python 3.8.8 ('base')",
   "language": "python",
   "name": "python3"
  },
  "language_info": {
   "codemirror_mode": {
    "name": "ipython",
    "version": 3
   },
   "file_extension": ".py",
   "mimetype": "text/x-python",
   "name": "python",
   "nbconvert_exporter": "python",
   "pygments_lexer": "ipython3",
   "version": "3.9.7"
  },
  "vscode": {
   "interpreter": {
    "hash": "caf264bf03997fa53b380c84044763293a7a6f8ebb5555ee5243fd4d1f495be6"
   }
  }
 },
 "nbformat": 4,
 "nbformat_minor": 2
}
