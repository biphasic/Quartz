{
 "cells": [
  {
   "cell_type": "code",
   "execution_count": null,
   "metadata": {},
   "outputs": [],
   "source": [
    "import torch\n",
    "import torch.nn as nn\n",
    "from torch.utils.data import DataLoader\n",
    "import torchvision\n",
    "import sinabs\n",
    "from torchvision import transforms, datasets\n",
    "from PIL import Image\n",
    "import sinabs.layers as sl\n",
    "import numpy as np\n",
    "import quartz\n",
    "import copy\n",
    "from mnist_model import ConvNet\n",
    "from tqdm.auto import tqdm\n",
    "\n",
    "np.set_printoptions(suppress=True)"
   ]
  },
  {
   "cell_type": "code",
   "execution_count": null,
   "metadata": {},
   "outputs": [],
   "source": [
    "device = 'cuda'\n",
    "batch_size = 128\n",
    "num_workers = 4\n",
    "\n",
    "transform = transforms.Compose([transforms.ToTensor()])\n",
    "valid_dataset = datasets.MNIST(root='./data', train=False, download=True, transform=transform)\n",
    "valid_loader = DataLoader(dataset=valid_dataset, batch_size=batch_size, shuffle=False, num_workers=num_workers, drop_last=True)"
   ]
  },
  {
   "cell_type": "code",
   "execution_count": null,
   "metadata": {},
   "outputs": [],
   "source": [
    "state_dict = torch.load(\"mnist-convnet.pth\", map_location=torch.device(device))\n",
    "ann = ConvNet()"
   ]
  },
  {
   "cell_type": "code",
   "execution_count": null,
   "metadata": {},
   "outputs": [],
   "source": [
    "ann[0].weight.data = state_dict['conv1.weight']\n",
    "ann[0].bias.data = state_dict['conv1.bias']\n",
    "ann[3].weight.data = state_dict['conv2.weight']\n",
    "ann[3].bias.data = state_dict['conv2.bias']\n",
    "ann[6].weight.data = state_dict['conv3.weight']\n",
    "ann[6].bias.data = state_dict['conv3.bias']\n",
    "ann[9].weight.data = state_dict['fc1.weight']\n",
    "ann[9].bias.data = state_dict['fc1.bias']\n",
    "\n",
    "ann.eval();"
   ]
  },
  {
   "cell_type": "code",
   "execution_count": null,
   "metadata": {},
   "outputs": [],
   "source": [
    "def get_mnist_accuracy(model, data_loader, device, t_max=None):\n",
    "    correct_pred = 0 \n",
    "    n = 0\n",
    "    model.eval()\n",
    "    for X, y_true in tqdm(data_loader):\n",
    "        X = X.to(device)\n",
    "        if t_max is not None:\n",
    "            X = quartz.encode_inputs(X, t_max=t_max).to(device)\n",
    "        y_true = y_true.to(device)\n",
    "        with torch.no_grad():\n",
    "            y_prob = model(X)\n",
    "        if t_max is not None:\n",
    "            y_prob = quartz.decode_outputs(y_prob, t_max=t_max)\n",
    "        _, predicted_labels = torch.max(y_prob, 1)\n",
    "        n += y_true.size(0)\n",
    "        correct_pred += (predicted_labels == y_true).sum()\n",
    "    return correct_pred.float() / n"
   ]
  },
  {
   "cell_type": "code",
   "execution_count": null,
   "metadata": {},
   "outputs": [],
   "source": [
    "get_mnist_accuracy(ann, valid_loader, device)"
   ]
  },
  {
   "cell_type": "code",
   "execution_count": null,
   "metadata": {},
   "outputs": [],
   "source": [
    "output_layers = [name for name, child in ann.named_children() if isinstance(child, nn.ReLU)]\n",
    "param_layers = [name for name, child in ann.named_children() if isinstance(child, (nn.Conv2d, nn.Linear))]\n",
    "output_layers += [param_layers[-1]]\n",
    "\n",
    "sample_data = next(iter(valid_loader))[0]\n",
    "\n",
    "percentile = 99"
   ]
  },
  {
   "cell_type": "code",
   "execution_count": null,
   "metadata": {},
   "outputs": [],
   "source": [
    "sinabs.utils.normalize_weights(ann, sample_data.to(device), output_layers=output_layers, param_layers=param_layers, percentile=percentile)"
   ]
  },
  {
   "cell_type": "code",
   "execution_count": null,
   "metadata": {},
   "outputs": [],
   "source": [
    "get_mnist_accuracy(ann, valid_loader, device)"
   ]
  },
  {
   "cell_type": "code",
   "execution_count": null,
   "metadata": {},
   "outputs": [],
   "source": [
    "t_max = 2**7\n",
    "\n",
    "snn = quartz.from_torch.from_model(ann, t_max=t_max, batch_size=batch_size, add_spiking_output=True).to(device).eval()"
   ]
  },
  {
   "cell_type": "code",
   "execution_count": null,
   "metadata": {},
   "outputs": [],
   "source": [
    "get_mnist_accuracy(snn, valid_loader, device, t_max=t_max)"
   ]
  }
 ],
 "metadata": {
  "interpreter": {
   "hash": "caf264bf03997fa53b380c84044763293a7a6f8ebb5555ee5243fd4d1f495be6"
  },
  "kernelspec": {
   "display_name": "Python 3.8.8 ('base')",
   "language": "python",
   "name": "python3"
  },
  "language_info": {
   "codemirror_mode": {
    "name": "ipython",
    "version": 3
   },
   "file_extension": ".py",
   "mimetype": "text/x-python",
   "name": "python",
   "nbconvert_exporter": "python",
   "pygments_lexer": "ipython3",
   "version": "3.8.8"
  }
 },
 "nbformat": 4,
 "nbformat_minor": 2
}
