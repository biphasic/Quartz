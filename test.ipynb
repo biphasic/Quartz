{
 "cells": [
  {
   "cell_type": "code",
   "execution_count": 23,
   "metadata": {},
   "outputs": [],
   "source": [
    "import torch\n",
    "import torch.nn as nn\n",
    "from quartz import IF\n",
    "import matplotlib.pyplot as plt"
   ]
  },
  {
   "cell_type": "code",
   "execution_count": 79,
   "metadata": {},
   "outputs": [],
   "source": [
    "t_max = 32\n",
    "\n",
    "class Net(nn.Module):\n",
    "    def __init__(self, t_max):\n",
    "        super().__init__()\n",
    "        self.t_max = t_max\n",
    "\n",
    "        self.weight1 = nn.Linear(1,1, bias=False)\n",
    "        self.layer1 = IF(t_max=t_max, record_v_mem=True)\n",
    "        self.weight1.weight.data *= 0\n",
    "        self.weight1.weight.data += 0.5\n",
    "\n",
    "    def forward(self, data: torch.Tensor):\n",
    "        data = self.weight1(data)\n",
    "        counter_weight = torch.zeros_like(data)\n",
    "        counter_weight[0, self.t_max] = 1 - data.sum()\n",
    "        return self.layer1(data+counter_weight)\n",
    "\n",
    "    def __len__(self):\n",
    "        return 1\n",
    "\n",
    "net = Net(t_max=t_max)"
   ]
  },
  {
   "cell_type": "code",
   "execution_count": 80,
   "metadata": {},
   "outputs": [],
   "source": [
    "input_data = torch.zeros(1, (len(net)+1)*t_max-len(net), 1)\n",
    "input_data[:, 0] = 1."
   ]
  },
  {
   "cell_type": "code",
   "execution_count": 81,
   "metadata": {},
   "outputs": [],
   "source": [
    "output = net(input_data)"
   ]
  },
  {
   "cell_type": "code",
   "execution_count": 82,
   "metadata": {},
   "outputs": [
    {
     "data": {
      "text/plain": [
       "[<matplotlib.lines.Line2D at 0x7f1b00551970>]"
      ]
     },
     "execution_count": 82,
     "metadata": {},
     "output_type": "execute_result"
    },
    {
     "data": {
      "image/png": "[encoded data removed]",
      "text/plain": [
       "<Figure size 432x288 with 2 Axes>"
      ]
     },
     "metadata": {
      "needs_background": "light"
     },
     "output_type": "display_data"
    }
   ],
   "source": [
    "fig, (ax1, ax2) = plt.subplots(2, 1, figsize=(6, 4))\n",
    "# ax1.plot(net[0].v_mem_recorded.flatten().numpy())\n",
    "ax2.plot(net.layer1.v_mem_recorded.flatten().detach().numpy())"
   ]
  },
  {
   "cell_type": "code",
   "execution_count": 83,
   "metadata": {},
   "outputs": [
    {
     "data": {
      "text/plain": [
       "tensor([[16,  0]])"
      ]
     },
     "execution_count": 83,
     "metadata": {},
     "output_type": "execute_result"
    }
   ],
   "source": [
    "output[0, -t_max:].nonzero()"
   ]
  },
  {
   "cell_type": "code",
   "execution_count": null,
   "metadata": {},
   "outputs": [],
   "source": []
  }
 ],
 "metadata": {
  "interpreter": {
   "hash": "caf264bf03997fa53b380c84044763293a7a6f8ebb5555ee5243fd4d1f495be6"
  },
  "kernelspec": {
   "display_name": "Python 3.8.8 ('base')",
   "language": "python",
   "name": "python3"
  },
  "language_info": {
   "codemirror_mode": {
    "name": "ipython",
    "version": 3
   },
   "file_extension": ".py",
   "mimetype": "text/x-python",
   "name": "python",
   "nbconvert_exporter": "python",
   "pygments_lexer": "ipython3",
   "version": "3.8.8"
  },
  "orig_nbformat": 4
 },
 "nbformat": 4,
 "nbformat_minor": 2
}
