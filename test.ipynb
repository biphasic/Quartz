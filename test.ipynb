{
 "cells": [
  {
   "cell_type": "code",
   "execution_count": null,
   "metadata": {},
   "outputs": [],
   "source": [
    "import torch\n",
    "import torch.nn as nn\n",
    "import quartz\n",
    "import matplotlib.pyplot as plt\n",
    "import sinabs.layers as sl"
   ]
  },
  {
   "cell_type": "code",
   "execution_count": null,
   "metadata": {},
   "outputs": [],
   "source": [
    "t_max = 16\n",
    "batch_size = 1\n",
    "\n",
    "class Net(nn.Module):\n",
    "    def __init__(\n",
    "        self, \n",
    "        t_max: int,\n",
    "        batch_size: int,\n",
    "    ):\n",
    "        super().__init__()\n",
    "\n",
    "        self.flatten_time = sl.FlattenTime()\n",
    "        self.unflatten_time = sl.UnflattenTime(batch_size=batch_size)\n",
    "        self.weight1 = nn.Linear(3, 1, bias=False)\n",
    "        # self.weight1 = nn.Conv2d(1, 2, kernel_size=2, bias=False)\n",
    "        self.layer1 = quartz.IFSqueeze(t_max=t_max, index=0, record_v_mem=True, rectification=True, batch_size=batch_size)\n",
    "\n",
    "    def forward(self, data: torch.Tensor):\n",
    "        data = self.flatten_time(data)\n",
    "        data = self.weight1(data)\n",
    "        data = self.layer1(data)\n",
    "        return self.unflatten_time(data)\n",
    "\n",
    "    def __len__(self):\n",
    "        return 1\n",
    "\n",
    "    def reset_states(self):\n",
    "        self.layer1.reset_states()\n",
    "\n",
    "net = Net(t_max=t_max, batch_size=batch_size)\n",
    "net.weight1.weight.data *= 0\n",
    "net.weight1.weight.data += 0.5"
   ]
  },
  {
   "cell_type": "code",
   "execution_count": null,
   "metadata": {},
   "outputs": [],
   "source": [
    "static_data = torch.ones(1, 1, 2, 2)\n",
    "static_data = torch.ones(1, 1, 1, 3)\n",
    "input_data = quartz.utils.encode_inputs(static_data, t_max=t_max, n_layers=len(net))\n",
    "n_time_steps = input_data.shape[1]"
   ]
  },
  {
   "cell_type": "code",
   "execution_count": null,
   "metadata": {},
   "outputs": [],
   "source": [
    "net.reset_states()\n",
    "output = net(input_data)"
   ]
  },
  {
   "cell_type": "code",
   "execution_count": null,
   "metadata": {},
   "outputs": [],
   "source": [
    "fig, ax1 = plt.subplots(1, 1, figsize=(6, 4))\n",
    "ax1.plot(net.layer1.v_mem_recorded.flatten().detach().numpy(), label='v_mem')\n",
    "ax1.plot(range(n_time_steps), [t_max]*n_time_steps, label='spike threshold')\n",
    "ax1.plot(t_max*output.flatten().detach().numpy(), label='output')\n",
    "ax1.legend()"
   ]
  },
  {
   "cell_type": "code",
   "execution_count": null,
   "metadata": {},
   "outputs": [],
   "source": [
    "quartz.decode_outputs(output, t_max)"
   ]
  },
  {
   "cell_type": "code",
   "execution_count": null,
   "metadata": {},
   "outputs": [],
   "source": [
    "torch.where(output > 0)"
   ]
  },
  {
   "cell_type": "code",
   "execution_count": null,
   "metadata": {},
   "outputs": [],
   "source": [
    "n_time_steps"
   ]
  },
  {
   "cell_type": "code",
   "execution_count": null,
   "metadata": {},
   "outputs": [],
   "source": []
  }
 ],
 "metadata": {
  "interpreter": {
   "hash": "caf264bf03997fa53b380c84044763293a7a6f8ebb5555ee5243fd4d1f495be6"
  },
  "kernelspec": {
   "display_name": "Python 3.8.8 ('base')",
   "language": "python",
   "name": "python3"
  },
  "language_info": {
   "codemirror_mode": {
    "name": "ipython",
    "version": 3
   },
   "file_extension": ".py",
   "mimetype": "text/x-python",
   "name": "python",
   "nbconvert_exporter": "python",
   "pygments_lexer": "ipython3",
   "version": "3.8.8"
  }
 },
 "nbformat": 4,
 "nbformat_minor": 2
}
