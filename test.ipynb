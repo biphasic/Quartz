{
 "cells": [
  {
   "cell_type": "code",
   "execution_count": null,
   "metadata": {},
   "outputs": [],
   "source": [
    "import torch\n",
    "import torch.nn as nn\n",
    "import quartz\n",
    "import matplotlib.pyplot as plt"
   ]
  },
  {
   "cell_type": "code",
   "execution_count": null,
   "metadata": {},
   "outputs": [],
   "source": [
    "t_max = 16\n",
    "\n",
    "class Net(nn.Module):\n",
    "    def __init__(self, t_max):\n",
    "        super().__init__()\n",
    "        self.t_max = t_max\n",
    "\n",
    "        # self.weight1 = nn.Linear(1, 1, bias=False)\n",
    "        self.weight1 = nn.Conv2d(1, 2, 2, bias=False)\n",
    "        self.layer1 = quartz.IF(t_max=t_max, index=0, record_v_mem=True, rectification=True)\n",
    "\n",
    "    def forward(self, data: torch.Tensor):\n",
    "        data = self.weight1(data)\n",
    "        return self.layer1(data)\n",
    "\n",
    "    def __len__(self):\n",
    "        return 1\n",
    "\n",
    "    def reset_states(self):\n",
    "        self.layer1.reset_states()\n",
    "\n",
    "net = Net(t_max=t_max)"
   ]
  },
  {
   "cell_type": "code",
   "execution_count": null,
   "metadata": {},
   "outputs": [],
   "source": [
    "static_data = torch.ones(1, 1, 2, 2)\n",
    "input_data = quartz.utils.encode_inputs(static_data, t_max=t_max, n_layers=len(net))\n",
    "n_time_steps = input_data.shape[1]"
   ]
  },
  {
   "cell_type": "code",
   "execution_count": null,
   "metadata": {},
   "outputs": [],
   "source": [
    "net.reset_states()\n",
    "output = net(input_data)"
   ]
  },
  {
   "cell_type": "code",
   "execution_count": null,
   "metadata": {},
   "outputs": [],
   "source": [
    "fig, ax1 = plt.subplots(1, 1, figsize=(6, 4))\n",
    "ax1.plot(net.layer1.v_mem_recorded.flatten().detach().numpy(), label='v_mem')\n",
    "ax1.plot(range(n_time_steps), [t_max]*n_time_steps, label='spike threshold')\n",
    "ax1.plot(output.flatten().detach().numpy(), label='output')"
   ]
  },
  {
   "cell_type": "code",
   "execution_count": null,
   "metadata": {},
   "outputs": [],
   "source": [
    "output[0, -t_max:].nonzero()"
   ]
  },
  {
   "cell_type": "code",
   "execution_count": null,
   "metadata": {},
   "outputs": [],
   "source": [
    "output"
   ]
  }
 ],
 "metadata": {
  "interpreter": {
   "hash": "caf264bf03997fa53b380c84044763293a7a6f8ebb5555ee5243fd4d1f495be6"
  },
  "kernelspec": {
   "display_name": "Python 3.8.8 ('base')",
   "language": "python",
   "name": "python3"
  },
  "language_info": {
   "codemirror_mode": {
    "name": "ipython",
    "version": 3
   },
   "file_extension": ".py",
   "mimetype": "text/x-python",
   "name": "python",
   "nbconvert_exporter": "python",
   "pygments_lexer": "ipython3",
   "version": "3.8.8"
  }
 },
 "nbformat": 4,
 "nbformat_minor": 2
}
