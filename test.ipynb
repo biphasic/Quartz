{
 "cells": [
  {
   "cell_type": "code",
   "execution_count": null,
   "metadata": {},
   "outputs": [],
   "source": [
    "import torch\n",
    "import torch.nn as nn\n",
    "import quartz\n",
    "import matplotlib.pyplot as plt\n",
    "import sinabs.layers as sl\n",
    "import numpy as np\n",
    "np.set_printoptions(suppress=True)"
   ]
  },
  {
   "cell_type": "code",
   "execution_count": null,
   "metadata": {},
   "outputs": [],
   "source": [
    "inputs = torch.rand((100000))\n",
    "t_max = 4\n",
    "q = 1/ t_max"
   ]
  },
  {
   "cell_type": "code",
   "execution_count": null,
   "metadata": {},
   "outputs": [],
   "source": [
    "np.histogram(q * np.round(inputs/q), bins=t_max+1)\n"
   ]
  },
  {
   "cell_type": "code",
   "execution_count": null,
   "metadata": {},
   "outputs": [],
   "source": [
    "q_inputs = (inputs * (t_max)).round() / (t_max)\n",
    "np.histogram(q_inputs, bins=t_max)\n",
    "# plt.hist(q_inputs);"
   ]
  },
  {
   "cell_type": "code",
   "execution_count": null,
   "metadata": {},
   "outputs": [],
   "source": [
    "q_inputs"
   ]
  },
  {
   "cell_type": "code",
   "execution_count": null,
   "metadata": {},
   "outputs": [],
   "source": [
    "np.bincount(np.digitize(inputs, bins=[0.25, 0.5, 0.75, 1]))"
   ]
  },
  {
   "cell_type": "code",
   "execution_count": null,
   "metadata": {},
   "outputs": [],
   "source": [
    "t_max = 5\n",
    "batch_size = 1\n",
    "\n",
    "class Net(nn.Module):\n",
    "    def __init__(\n",
    "        self, \n",
    "        t_max: int,\n",
    "        batch_size: int,\n",
    "    ):\n",
    "        super().__init__()\n",
    "\n",
    "        self.flatten_time = sl.FlattenTime()\n",
    "        self.unflatten_time = sl.UnflattenTime(batch_size=batch_size)\n",
    "        self.weight1 = nn.Linear(1, 1, bias=False)\n",
    "        # self.weight1 = nn.Linear(10, 10, bias=False)\n",
    "        # self.weight1 = nn.Conv2d(1, 1, kernel_size=3, bias=False)\n",
    "        self.layer1 = quartz.IFSqueeze(t_max=t_max, record_v_mem=True, rectification=False, batch_size=batch_size)\n",
    "\n",
    "    def forward(self, data: torch.Tensor):\n",
    "        data = self.flatten_time(data)\n",
    "        data = self.weight1(data)\n",
    "        data = self.layer1(data)\n",
    "        return self.unflatten_time(data)\n",
    "\n",
    "    def __len__(self):\n",
    "        return 1\n",
    "\n",
    "    def reset_states(self):\n",
    "        self.layer1.reset_states()\n",
    "\n",
    "net = Net(t_max=t_max, batch_size=batch_size)\n",
    "net.weight1.weight.data *= 0\n",
    "net.weight1.weight.data -= 0.5"
   ]
  },
  {
   "cell_type": "code",
   "execution_count": null,
   "metadata": {},
   "outputs": [],
   "source": [
    "static_data = torch.ones(1, 1, 3, 3)\n",
    "static_data = torch.ones(1, 1, 1, 1) #* 0.5\n",
    "# static_data = torch.ones(1, 10)\n",
    "input_data = quartz.utils.encode_inputs(static_data, t_max=t_max)\n",
    "n_time_steps = input_data.shape[1]"
   ]
  },
  {
   "cell_type": "code",
   "execution_count": null,
   "metadata": {},
   "outputs": [],
   "source": [
    "net.reset_states()\n",
    "output = net(input_data)"
   ]
  },
  {
   "cell_type": "code",
   "execution_count": null,
   "metadata": {},
   "outputs": [],
   "source": [
    "# input_data"
   ]
  },
  {
   "cell_type": "code",
   "execution_count": null,
   "metadata": {},
   "outputs": [],
   "source": [
    "fig, ax1 = plt.subplots(1, 1, figsize=(6, 4))\n",
    "ax1.plot(net.layer1.v_mem_recorded[0,:,0,0,0].flatten().detach().numpy(), label='v_mem', drawstyle='steps-mid')\n",
    "ax1.plot(range(n_time_steps), [t_max]*n_time_steps, label='spike threshold')\n",
    "ax1.plot(t_max*output[0,:,0,0,0].flatten().detach().numpy(), label='output', drawstyle='steps-mid')\n",
    "ax1.legend()"
   ]
  },
  {
   "cell_type": "code",
   "execution_count": null,
   "metadata": {},
   "outputs": [],
   "source": [
    "quartz.decode_outputs(output, t_max)"
   ]
  },
  {
   "cell_type": "code",
   "execution_count": null,
   "metadata": {},
   "outputs": [],
   "source": [
    "net.layer1.v_mem_recorded[0,999,0,0,0]"
   ]
  },
  {
   "cell_type": "code",
   "execution_count": null,
   "metadata": {},
   "outputs": [],
   "source": [
    "n_time_steps"
   ]
  },
  {
   "cell_type": "code",
   "execution_count": null,
   "metadata": {},
   "outputs": [],
   "source": [
    "static_data = torch.ones(1, 1, 2, 2)\n",
    "static_data = torch.ones(2, 5, 3, 3) *0.25\n",
    "input_data = quartz.utils.encode_inputs(static_data, t_max=t_max, n_layers=len(net))\n",
    "n_time_steps = input_data.shape[1]\n",
    "\n",
    "layer = nn.Conv2d(5, 1, kernel_size=3, bias=False)\n",
    "layer2 = quartz.Lift(layer)"
   ]
  },
  {
   "cell_type": "code",
   "execution_count": null,
   "metadata": {},
   "outputs": [],
   "source": [
    "output = layer(input_data.flatten(0, 1)).unflatten(0, (-1, n_time_steps))\n",
    "output2 = layer2(input_data)"
   ]
  },
  {
   "cell_type": "code",
   "execution_count": null,
   "metadata": {},
   "outputs": [],
   "source": [
    "(output == output2).all()"
   ]
  },
  {
   "cell_type": "code",
   "execution_count": null,
   "metadata": {},
   "outputs": [],
   "source": [
    "for i in range(t_max):\n",
    "    print(output[:,i])"
   ]
  },
  {
   "cell_type": "code",
   "execution_count": null,
   "metadata": {},
   "outputs": [],
   "source": [
    "for i in range(t_max):\n",
    "    print(output2[:,i])"
   ]
  },
  {
   "cell_type": "code",
   "execution_count": null,
   "metadata": {},
   "outputs": [],
   "source": [
    "import torch\n",
    "import matplotlib.pyplot as plt\n",
    "# np.set_printoptions(True)"
   ]
  },
  {
   "cell_type": "code",
   "execution_count": null,
   "metadata": {},
   "outputs": [],
   "source": [
    "q_inputs"
   ]
  }
 ],
 "metadata": {
  "interpreter": {
   "hash": "caf264bf03997fa53b380c84044763293a7a6f8ebb5555ee5243fd4d1f495be6"
  },
  "kernelspec": {
   "display_name": "Python 3.8.8 ('base')",
   "language": "python",
   "name": "python3"
  },
  "language_info": {
   "codemirror_mode": {
    "name": "ipython",
    "version": 3
   },
   "file_extension": ".py",
   "mimetype": "text/x-python",
   "name": "python",
   "nbconvert_exporter": "python",
   "pygments_lexer": "ipython3",
   "version": "3.8.8"
  }
 },
 "nbformat": 4,
 "nbformat_minor": 2
}
