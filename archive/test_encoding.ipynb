{
 "cells": [
  {
   "cell_type": "code",
   "execution_count": null,
   "metadata": {},
   "outputs": [],
   "source": [
    "import torch\n",
    "import torch.nn as nn\n",
    "import quartz"
   ]
  },
  {
   "cell_type": "code",
   "execution_count": null,
   "metadata": {},
   "outputs": [],
   "source": [
    "t_max = 4\n",
    "\n",
    "values = torch.tensor([2, 1.5, 1, 0.66, 0.5, 0.4, 0.2354, 0.001, 0,])\n",
    "values = values.clamp(max=1 + (t_max-1)/t_max)\n",
    "values"
   ]
  },
  {
   "cell_type": "code",
   "execution_count": null,
   "metadata": {},
   "outputs": [],
   "source": [
    "times = 2*t_max - 1 - (values*t_max).int()\n",
    "times"
   ]
  },
  {
   "cell_type": "code",
   "execution_count": null,
   "metadata": {},
   "outputs": [],
   "source": [
    "(2*t_max - 1 - times) / t_max# .flip(dims=[0]) "
   ]
  },
  {
   "cell_type": "code",
   "execution_count": null,
   "metadata": {},
   "outputs": [],
   "source": [
    "t_max = 2**2+1\n",
    "\n",
    "values = [0, 0.001, 0.5, 0.77, 1, 2]\n",
    "\n",
    "for value in values:\n",
    "    weight = 1\n",
    "\n",
    "    values = torch.ones((1, 1)) * value\n",
    "    q_values = quartz.quantize_inputs(values, t_max)\n",
    "\n",
    "    linear_layer = nn.Linear(1, 1, bias=False)\n",
    "    linear_layer.weight = torch.nn.Parameter(\n",
    "        torch.ones_like(linear_layer.weight) * weight\n",
    "    )\n",
    "    ann_output = linear_layer(q_values)\n",
    "    q_ann_output = quartz.quantize_inputs(ann_output, t_max)\n",
    "\n",
    "    temp_q_values = quartz.encode_inputs(q_values, t_max=t_max)\n",
    "    print(temp_q_values.ravel())\n",
    "    temp_linear = linear_layer(temp_q_values.flatten(0, 1)).unflatten(0, (1, -1))\n",
    "    quartz_layer = quartz.IF(t_max=t_max, rectification=False, record_v_mem=True)\n",
    "    quartz_output = quartz_layer(temp_linear)\n",
    "    q_quartz_output = quartz.decode_outputs(quartz_output, t_max=t_max)\n",
    "    print(quartz_layer.v_mem_recorded.ravel().detach())\n",
    "    print(quartz_output.ravel().detach())\n",
    "    print(q_quartz_output)"
   ]
  },
  {
   "cell_type": "code",
   "execution_count": null,
   "metadata": {},
   "outputs": [],
   "source": [
    "quartz_output.flip(dims=[1]) / 2*t_max"
   ]
  },
  {
   "cell_type": "code",
   "execution_count": null,
   "metadata": {},
   "outputs": [],
   "source": []
  }
 ],
 "metadata": {
  "kernelspec": {
   "display_name": "Python 3.9.7 ('base')",
   "language": "python",
   "name": "python3"
  },
  "language_info": {
   "codemirror_mode": {
    "name": "ipython",
    "version": 3
   },
   "file_extension": ".py",
   "mimetype": "text/x-python",
   "name": "python",
   "nbconvert_exporter": "python",
   "pygments_lexer": "ipython3",
   "version": "3.8.8"
  },
  "vscode": {
   "interpreter": {
    "hash": "caf264bf03997fa53b380c84044763293a7a6f8ebb5555ee5243fd4d1f495be6"
   }
  }
 },
 "nbformat": 4,
 "nbformat_minor": 2
}
